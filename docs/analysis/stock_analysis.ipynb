{
 "cells": [
  {
   "cell_type": "code",
   "execution_count": 1,
   "metadata": {},
   "outputs": [],
   "source": [
    "import pandas as pd\n",
    "\n",
    "import warnings\n",
    "warnings.filterwarnings('ignore')"
   ]
  },
  {
   "cell_type": "markdown",
   "metadata": {},
   "source": [
    "## 주식 데이터"
   ]
  },
  {
   "cell_type": "code",
   "execution_count": 2,
   "metadata": {},
   "outputs": [],
   "source": [
    "pola_stock = pd.read_csv('../data/get_stock.polaris.csv')"
   ]
  },
  {
   "cell_type": "code",
   "execution_count": 3,
   "metadata": {},
   "outputs": [],
   "source": [
    "pola_stock = pola_stock.dropna(subset=['date'])"
   ]
  },
  {
   "cell_type": "code",
   "execution_count": 4,
   "metadata": {},
   "outputs": [],
   "source": [
    "# 전일비 변환작업 및 null값 업데이트\n",
    "\n",
    "for i in range(len(pola_stock)-1):    \n",
    "    daily_change = pola_stock['end_price'].iloc[i] - pola_stock['end_price'].iloc[i+1]\n",
    "    pola_stock['daily_change'].iloc[i] = daily_change\n",
    "\n",
    "    if i == len(pola_stock)-1:\n",
    "        pola_stock['daily_change'].iloc[len(pola_stock)] = int(pola_stock['daily_change'].iloc[len(pola_stock)])"
   ]
  },
  {
   "cell_type": "markdown",
   "metadata": {},
   "source": [
    "## 토큰 데이터"
   ]
  },
  {
   "cell_type": "code",
   "execution_count": 5,
   "metadata": {},
   "outputs": [],
   "source": [
    "pola_token_get = pd.read_json('../data/pola_token.json')"
   ]
  },
  {
   "cell_type": "code",
   "execution_count": 6,
   "metadata": {},
   "outputs": [
    {
     "data": {
      "text/plain": [
       "t    [1605711600000, 1605798000000, 1605884400000, ...\n",
       "o    [30.01, 482.9, 595.6, 550, 475.2, 3600, 2960, ...\n",
       "h    [670, 697.5, 648.1, 600.6, 5000, 3944, 4015, 3...\n",
       "l    [30.01, 354.6, 527.2, 451.6, 475.2, 2220, 2099...\n",
       "c    [481, 596, 569.8, 483.5, 3640, 2933, 2821, 801...\n",
       "v    [97047175.524635668613744039, 684675710.297753...\n",
       "Name: data, dtype: object"
      ]
     },
     "execution_count": 6,
     "metadata": {},
     "output_type": "execute_result"
    }
   ],
   "source": [
    "pola_token_get['data']"
   ]
  },
  {
   "cell_type": "code",
   "execution_count": 7,
   "metadata": {},
   "outputs": [],
   "source": [
    "pola_token = pd.DataFrame()\n",
    "pola_token['timestamp'] = pola_token_get['data'][0]\n",
    "pola_token['open_price'] = pola_token_get['data'][1]\n",
    "pola_token['high_price'] = pola_token_get['data'][2]\n",
    "pola_token['low_price'] = pola_token_get['data'][3]\n",
    "pola_token['close_price'] = pola_token_get['data'][4]\n",
    "pola_token['trade_volume'] = pola_token_get['data'][5]"
   ]
  },
  {
   "cell_type": "code",
   "execution_count": 8,
   "metadata": {},
   "outputs": [
    {
     "data": {
      "text/html": [
       "<div>\n",
       "<style scoped>\n",
       "    .dataframe tbody tr th:only-of-type {\n",
       "        vertical-align: middle;\n",
       "    }\n",
       "\n",
       "    .dataframe tbody tr th {\n",
       "        vertical-align: top;\n",
       "    }\n",
       "\n",
       "    .dataframe thead th {\n",
       "        text-align: right;\n",
       "    }\n",
       "</style>\n",
       "<table border=\"1\" class=\"dataframe\">\n",
       "  <thead>\n",
       "    <tr style=\"text-align: right;\">\n",
       "      <th></th>\n",
       "      <th>timestamp</th>\n",
       "      <th>open_price</th>\n",
       "      <th>high_price</th>\n",
       "      <th>low_price</th>\n",
       "      <th>close_price</th>\n",
       "      <th>trade_volume</th>\n",
       "    </tr>\n",
       "  </thead>\n",
       "  <tbody>\n",
       "    <tr>\n",
       "      <th>0</th>\n",
       "      <td>1605711600000</td>\n",
       "      <td>30.01</td>\n",
       "      <td>670</td>\n",
       "      <td>30.01</td>\n",
       "      <td>481</td>\n",
       "      <td>97047175.524635668613744039</td>\n",
       "    </tr>\n",
       "    <tr>\n",
       "      <th>1</th>\n",
       "      <td>1605798000000</td>\n",
       "      <td>482.9</td>\n",
       "      <td>697.5</td>\n",
       "      <td>354.6</td>\n",
       "      <td>596</td>\n",
       "      <td>684675710.297753710545601948</td>\n",
       "    </tr>\n",
       "    <tr>\n",
       "      <th>2</th>\n",
       "      <td>1605884400000</td>\n",
       "      <td>595.6</td>\n",
       "      <td>648.1</td>\n",
       "      <td>527.2</td>\n",
       "      <td>569.8</td>\n",
       "      <td>959839313.520329676084903356</td>\n",
       "    </tr>\n",
       "    <tr>\n",
       "      <th>3</th>\n",
       "      <td>1605970800000</td>\n",
       "      <td>550</td>\n",
       "      <td>600.6</td>\n",
       "      <td>451.6</td>\n",
       "      <td>483.5</td>\n",
       "      <td>9698525.496211397492328175</td>\n",
       "    </tr>\n",
       "    <tr>\n",
       "      <th>4</th>\n",
       "      <td>1606057200000</td>\n",
       "      <td>475.2</td>\n",
       "      <td>5000</td>\n",
       "      <td>475.2</td>\n",
       "      <td>3640</td>\n",
       "      <td>67830701.70380660742383707</td>\n",
       "    </tr>\n",
       "    <tr>\n",
       "      <th>...</th>\n",
       "      <td>...</td>\n",
       "      <td>...</td>\n",
       "      <td>...</td>\n",
       "      <td>...</td>\n",
       "      <td>...</td>\n",
       "      <td>...</td>\n",
       "    </tr>\n",
       "    <tr>\n",
       "      <th>1246</th>\n",
       "      <td>1713366000000</td>\n",
       "      <td>56.5</td>\n",
       "      <td>58</td>\n",
       "      <td>51.2</td>\n",
       "      <td>54.16</td>\n",
       "      <td>51958548.788103589176785507</td>\n",
       "    </tr>\n",
       "    <tr>\n",
       "      <th>1247</th>\n",
       "      <td>1713452400000</td>\n",
       "      <td>54.16</td>\n",
       "      <td>54.33</td>\n",
       "      <td>46</td>\n",
       "      <td>52.16</td>\n",
       "      <td>42951779.193584789613648723</td>\n",
       "    </tr>\n",
       "    <tr>\n",
       "      <th>1248</th>\n",
       "      <td>1713538800000</td>\n",
       "      <td>52.17</td>\n",
       "      <td>52.17</td>\n",
       "      <td>49.38</td>\n",
       "      <td>51.17</td>\n",
       "      <td>15439860.527550924633344107</td>\n",
       "    </tr>\n",
       "    <tr>\n",
       "      <th>1249</th>\n",
       "      <td>1713625200000</td>\n",
       "      <td>51.18</td>\n",
       "      <td>53.77</td>\n",
       "      <td>50.67</td>\n",
       "      <td>51.97</td>\n",
       "      <td>22002388.083048372683249285</td>\n",
       "    </tr>\n",
       "    <tr>\n",
       "      <th>1250</th>\n",
       "      <td>1713711600000</td>\n",
       "      <td>51.97</td>\n",
       "      <td>53.16</td>\n",
       "      <td>50.68</td>\n",
       "      <td>51.58</td>\n",
       "      <td>7902216.880580430854621639</td>\n",
       "    </tr>\n",
       "  </tbody>\n",
       "</table>\n",
       "<p>1251 rows × 6 columns</p>\n",
       "</div>"
      ],
      "text/plain": [
       "          timestamp open_price high_price low_price close_price  \\\n",
       "0     1605711600000      30.01        670     30.01         481   \n",
       "1     1605798000000      482.9      697.5     354.6         596   \n",
       "2     1605884400000      595.6      648.1     527.2       569.8   \n",
       "3     1605970800000        550      600.6     451.6       483.5   \n",
       "4     1606057200000      475.2       5000     475.2        3640   \n",
       "...             ...        ...        ...       ...         ...   \n",
       "1246  1713366000000       56.5         58      51.2       54.16   \n",
       "1247  1713452400000      54.16      54.33        46       52.16   \n",
       "1248  1713538800000      52.17      52.17     49.38       51.17   \n",
       "1249  1713625200000      51.18      53.77     50.67       51.97   \n",
       "1250  1713711600000      51.97      53.16     50.68       51.58   \n",
       "\n",
       "                      trade_volume  \n",
       "0      97047175.524635668613744039  \n",
       "1     684675710.297753710545601948  \n",
       "2     959839313.520329676084903356  \n",
       "3       9698525.496211397492328175  \n",
       "4       67830701.70380660742383707  \n",
       "...                            ...  \n",
       "1246   51958548.788103589176785507  \n",
       "1247   42951779.193584789613648723  \n",
       "1248   15439860.527550924633344107  \n",
       "1249   22002388.083048372683249285  \n",
       "1250    7902216.880580430854621639  \n",
       "\n",
       "[1251 rows x 6 columns]"
      ]
     },
     "execution_count": 8,
     "metadata": {},
     "output_type": "execute_result"
    }
   ],
   "source": [
    "pola_token"
   ]
  },
  {
   "cell_type": "code",
   "execution_count": 9,
   "metadata": {},
   "outputs": [],
   "source": [
    "import datetime\n",
    "\n",
    "def change_datetime(text):\n",
    "\n",
    "    # Epoch time을 기준으로 한 초 단위로 변환\n",
    "    timestamp_s = text / 1000\n",
    "\n",
    "    # 한국 시간대로 변환\n",
    "    korea_time = datetime.datetime.utcfromtimestamp(timestamp_s) + datetime.timedelta(hours=9)\n",
    "\n",
    "    korea_time = korea_time.strftime('%Y-%m-%d')\n",
    "\n",
    "    return korea_time"
   ]
  },
  {
   "cell_type": "code",
   "execution_count": 10,
   "metadata": {},
   "outputs": [],
   "source": [
    "pola_token['timestamp'] = pola_token['timestamp'].apply(change_datetime)"
   ]
  },
  {
   "cell_type": "code",
   "execution_count": 11,
   "metadata": {},
   "outputs": [],
   "source": [
    "pola_token['timestamp'] = pd.to_datetime(pola_token['timestamp'])"
   ]
  },
  {
   "cell_type": "code",
   "execution_count": 12,
   "metadata": {},
   "outputs": [
    {
     "data": {
      "text/html": [
       "<div>\n",
       "<style scoped>\n",
       "    .dataframe tbody tr th:only-of-type {\n",
       "        vertical-align: middle;\n",
       "    }\n",
       "\n",
       "    .dataframe tbody tr th {\n",
       "        vertical-align: top;\n",
       "    }\n",
       "\n",
       "    .dataframe thead th {\n",
       "        text-align: right;\n",
       "    }\n",
       "</style>\n",
       "<table border=\"1\" class=\"dataframe\">\n",
       "  <thead>\n",
       "    <tr style=\"text-align: right;\">\n",
       "      <th></th>\n",
       "      <th>timestamp</th>\n",
       "      <th>open_price</th>\n",
       "      <th>high_price</th>\n",
       "      <th>low_price</th>\n",
       "      <th>close_price</th>\n",
       "      <th>trade_volume</th>\n",
       "    </tr>\n",
       "  </thead>\n",
       "  <tbody>\n",
       "    <tr>\n",
       "      <th>0</th>\n",
       "      <td>2020-11-19</td>\n",
       "      <td>30.01</td>\n",
       "      <td>670</td>\n",
       "      <td>30.01</td>\n",
       "      <td>481</td>\n",
       "      <td>97047175.524635668613744039</td>\n",
       "    </tr>\n",
       "    <tr>\n",
       "      <th>1</th>\n",
       "      <td>2020-11-20</td>\n",
       "      <td>482.9</td>\n",
       "      <td>697.5</td>\n",
       "      <td>354.6</td>\n",
       "      <td>596</td>\n",
       "      <td>684675710.297753710545601948</td>\n",
       "    </tr>\n",
       "    <tr>\n",
       "      <th>2</th>\n",
       "      <td>2020-11-21</td>\n",
       "      <td>595.6</td>\n",
       "      <td>648.1</td>\n",
       "      <td>527.2</td>\n",
       "      <td>569.8</td>\n",
       "      <td>959839313.520329676084903356</td>\n",
       "    </tr>\n",
       "    <tr>\n",
       "      <th>3</th>\n",
       "      <td>2020-11-22</td>\n",
       "      <td>550</td>\n",
       "      <td>600.6</td>\n",
       "      <td>451.6</td>\n",
       "      <td>483.5</td>\n",
       "      <td>9698525.496211397492328175</td>\n",
       "    </tr>\n",
       "    <tr>\n",
       "      <th>4</th>\n",
       "      <td>2020-11-23</td>\n",
       "      <td>475.2</td>\n",
       "      <td>5000</td>\n",
       "      <td>475.2</td>\n",
       "      <td>3640</td>\n",
       "      <td>67830701.70380660742383707</td>\n",
       "    </tr>\n",
       "    <tr>\n",
       "      <th>...</th>\n",
       "      <td>...</td>\n",
       "      <td>...</td>\n",
       "      <td>...</td>\n",
       "      <td>...</td>\n",
       "      <td>...</td>\n",
       "      <td>...</td>\n",
       "    </tr>\n",
       "    <tr>\n",
       "      <th>1246</th>\n",
       "      <td>2024-04-18</td>\n",
       "      <td>56.5</td>\n",
       "      <td>58</td>\n",
       "      <td>51.2</td>\n",
       "      <td>54.16</td>\n",
       "      <td>51958548.788103589176785507</td>\n",
       "    </tr>\n",
       "    <tr>\n",
       "      <th>1247</th>\n",
       "      <td>2024-04-19</td>\n",
       "      <td>54.16</td>\n",
       "      <td>54.33</td>\n",
       "      <td>46</td>\n",
       "      <td>52.16</td>\n",
       "      <td>42951779.193584789613648723</td>\n",
       "    </tr>\n",
       "    <tr>\n",
       "      <th>1248</th>\n",
       "      <td>2024-04-20</td>\n",
       "      <td>52.17</td>\n",
       "      <td>52.17</td>\n",
       "      <td>49.38</td>\n",
       "      <td>51.17</td>\n",
       "      <td>15439860.527550924633344107</td>\n",
       "    </tr>\n",
       "    <tr>\n",
       "      <th>1249</th>\n",
       "      <td>2024-04-21</td>\n",
       "      <td>51.18</td>\n",
       "      <td>53.77</td>\n",
       "      <td>50.67</td>\n",
       "      <td>51.97</td>\n",
       "      <td>22002388.083048372683249285</td>\n",
       "    </tr>\n",
       "    <tr>\n",
       "      <th>1250</th>\n",
       "      <td>2024-04-22</td>\n",
       "      <td>51.97</td>\n",
       "      <td>53.16</td>\n",
       "      <td>50.68</td>\n",
       "      <td>51.58</td>\n",
       "      <td>7902216.880580430854621639</td>\n",
       "    </tr>\n",
       "  </tbody>\n",
       "</table>\n",
       "<p>1251 rows × 6 columns</p>\n",
       "</div>"
      ],
      "text/plain": [
       "      timestamp open_price high_price low_price close_price  \\\n",
       "0    2020-11-19      30.01        670     30.01         481   \n",
       "1    2020-11-20      482.9      697.5     354.6         596   \n",
       "2    2020-11-21      595.6      648.1     527.2       569.8   \n",
       "3    2020-11-22        550      600.6     451.6       483.5   \n",
       "4    2020-11-23      475.2       5000     475.2        3640   \n",
       "...         ...        ...        ...       ...         ...   \n",
       "1246 2024-04-18       56.5         58      51.2       54.16   \n",
       "1247 2024-04-19      54.16      54.33        46       52.16   \n",
       "1248 2024-04-20      52.17      52.17     49.38       51.17   \n",
       "1249 2024-04-21      51.18      53.77     50.67       51.97   \n",
       "1250 2024-04-22      51.97      53.16     50.68       51.58   \n",
       "\n",
       "                      trade_volume  \n",
       "0      97047175.524635668613744039  \n",
       "1     684675710.297753710545601948  \n",
       "2     959839313.520329676084903356  \n",
       "3       9698525.496211397492328175  \n",
       "4       67830701.70380660742383707  \n",
       "...                            ...  \n",
       "1246   51958548.788103589176785507  \n",
       "1247   42951779.193584789613648723  \n",
       "1248   15439860.527550924633344107  \n",
       "1249   22002388.083048372683249285  \n",
       "1250    7902216.880580430854621639  \n",
       "\n",
       "[1251 rows x 6 columns]"
      ]
     },
     "execution_count": 12,
     "metadata": {},
     "output_type": "execute_result"
    }
   ],
   "source": [
    "pola_token"
   ]
  },
  {
   "cell_type": "code",
   "execution_count": 13,
   "metadata": {},
   "outputs": [],
   "source": [
    "pola_token['close_price'] = pola_token['close_price'].apply(float)"
   ]
  },
  {
   "cell_type": "code",
   "execution_count": 14,
   "metadata": {},
   "outputs": [],
   "source": [
    "pola_stock = pola_stock.drop(columns='_id')\n",
    "pola_stock['date'] = pd.to_datetime(pola_stock['date'])\n"
   ]
  },
  {
   "cell_type": "code",
   "execution_count": 15,
   "metadata": {},
   "outputs": [],
   "source": [
    "pola_stock = pola_stock.sort_values('date')"
   ]
  },
  {
   "cell_type": "markdown",
   "metadata": {},
   "source": [
    "## 뉴스 데이터"
   ]
  },
  {
   "cell_type": "code",
   "execution_count": 16,
   "metadata": {},
   "outputs": [],
   "source": [
    "office_news = pd.read_csv('../data/news_get.daum_office_news.csv')"
   ]
  },
  {
   "cell_type": "code",
   "execution_count": 17,
   "metadata": {},
   "outputs": [],
   "source": [
    "share_news = pd.read_csv('../data/news_get.daum_news_share.csv')"
   ]
  },
  {
   "cell_type": "code",
   "execution_count": 18,
   "metadata": {},
   "outputs": [
    {
     "data": {
      "text/plain": [
       "36"
      ]
     },
     "execution_count": 18,
     "metadata": {},
     "output_type": "execute_result"
    }
   ],
   "source": [
    "len(share_news)"
   ]
  },
  {
   "cell_type": "markdown",
   "metadata": {},
   "source": [
    "- share뉴스의 갯수가 36개 밖에 안되기 때문에 뉴스를 통합하고 중복 뉴스 제거\""
   ]
  },
  {
   "cell_type": "code",
   "execution_count": 19,
   "metadata": {},
   "outputs": [],
   "source": [
    "news_total = pd.concat([office_news,share_news])"
   ]
  },
  {
   "cell_type": "code",
   "execution_count": 20,
   "metadata": {},
   "outputs": [],
   "source": [
    "news_total = news_total.drop(columns='_id').drop_duplicates().sort_values('news_date')"
   ]
  },
  {
   "cell_type": "code",
   "execution_count": 21,
   "metadata": {},
   "outputs": [],
   "source": [
    "news_total = news_total.drop(columns='news_brand').query('news_date.notna()')"
   ]
  },
  {
   "cell_type": "code",
   "execution_count": 22,
   "metadata": {},
   "outputs": [],
   "source": [
    "news_total['news_date'] = pd.to_datetime(news_total['news_date'].str.split().str[:3].str.join(' '), format=\"%Y. %m. %d.\")"
   ]
  },
  {
   "cell_type": "code",
   "execution_count": 23,
   "metadata": {},
   "outputs": [
    {
     "data": {
      "text/plain": [
       "(800, 3)"
      ]
     },
     "execution_count": 23,
     "metadata": {},
     "output_type": "execute_result"
    }
   ],
   "source": [
    "news_total.shape"
   ]
  },
  {
   "cell_type": "markdown",
   "metadata": {},
   "source": [
    "- 총 800개의 뉴스 데이터를 수집"
   ]
  },
  {
   "cell_type": "markdown",
   "metadata": {},
   "source": [
    "## 시각화\n",
    "- 뉴스 데이터가 2022-01-01부터 수집되었으므로 토큰과 주식의 그 전데이터는 삭제해준다."
   ]
  },
  {
   "cell_type": "code",
   "execution_count": 24,
   "metadata": {},
   "outputs": [],
   "source": [
    "pola_stock = pola_stock.query('date > \"2021-12-31\"')\n",
    "pola_token = pola_token.query('timestamp > \"2021-12-31\"')"
   ]
  },
  {
   "cell_type": "code",
   "execution_count": 25,
   "metadata": {},
   "outputs": [],
   "source": [
    "import matplotlib.pyplot as plt\n",
    "import seaborn as sns"
   ]
  },
  {
   "cell_type": "code",
   "execution_count": 26,
   "metadata": {},
   "outputs": [
    {
     "data": {
      "image/png": "[encoded data removed]",
      "text/plain": [
       "<Figure size 1500x600 with 2 Axes>"
      ]
     },
     "metadata": {},
     "output_type": "display_data"
    }
   ],
   "source": [
    "plt.rcParams['font.family'] = 'Malgun Gothic'\n",
    "\n",
    "plt.figure(figsize=(15, 6))\n",
    "\n",
    "plt.subplot(1, 2, 1)\n",
    "sns.lineplot(data=pola_stock, x='date', y='end_price')\n",
    "plt.xticks(rotation = 45)\n",
    "plt.title('폴라리스오피스 주가 추이 (종가)')\n",
    "\n",
    "plt.subplot(1, 2, 2)\n",
    "sns.lineplot(data=pola_token, x='timestamp', y='close_price')\n",
    "plt.xticks(rotation = 45)\n",
    "plt.title('폴라쉐어토큰 가격 추이 (종가)')\n",
    "\n",
    "plt.tight_layout()\n",
    "\n",
    "plt.show()"
   ]
  },
  {
   "cell_type": "markdown",
   "metadata": {},
   "source": [
    "### 토큰 전일비 고가 추출"
   ]
  },
  {
   "cell_type": "code",
   "execution_count": 27,
   "metadata": {},
   "outputs": [],
   "source": [
    "pola_token['daily_change'] = pola_token['close_price'] - pola_token['open_price'].apply(float)"
   ]
  },
  {
   "cell_type": "code",
   "execution_count": 32,
   "metadata": {},
   "outputs": [],
   "source": [
    "pola_token['check_point'] = (pola_token['daily_change'] / pola_token['close_price']) > 0.1\n",
    "pola_token['check_point_rate'] = (pola_token['daily_change'] / pola_token['close_price'])"
   ]
  },
  {
   "cell_type": "code",
   "execution_count": 33,
   "metadata": {},
   "outputs": [],
   "source": [
    "df_check = pola_token.query('check_point == True')"
   ]
  },
  {
   "cell_type": "markdown",
   "metadata": {},
   "source": [
    "- 일일 10%이상 급등한 날 추출"
   ]
  },
  {
   "cell_type": "code",
   "execution_count": 31,
   "metadata": {},
   "outputs": [],
   "source": [
    "check_date_list = df_check['timestamp']"
   ]
  },
  {
   "cell_type": "code",
   "execution_count": 38,
   "metadata": {},
   "outputs": [
    {
     "data": {
      "text/plain": [
       "452    2022-02-14\n",
       "575    2022-06-17\n",
       "591    2022-07-03\n",
       "593    2022-07-05\n",
       "623    2022-08-04\n",
       "721    2022-11-10\n",
       "730    2022-11-19\n",
       "773    2023-01-01\n",
       "834    2023-03-03\n",
       "837    2023-03-06\n",
       "838    2023-03-07\n",
       "848    2023-03-17\n",
       "925    2023-06-02\n",
       "970    2023-07-17\n",
       "985    2023-08-01\n",
       "996    2023-08-12\n",
       "1008   2023-08-24\n",
       "1050   2023-10-05\n",
       "1054   2023-10-09\n",
       "1057   2023-10-12\n",
       "1090   2023-11-14\n",
       "1142   2024-01-05\n",
       "1143   2024-01-06\n",
       "1187   2024-02-19\n",
       "1188   2024-02-20\n",
       "1189   2024-02-21\n",
       "1197   2024-02-29\n",
       "1198   2024-03-01\n",
       "1201   2024-03-04\n",
       "1207   2024-03-10\n",
       "1224   2024-03-27\n",
       "1243   2024-04-15\n",
       "1244   2024-04-16\n",
       "Name: timestamp, dtype: datetime64[ns]"
      ]
     },
     "execution_count": 38,
     "metadata": {},
     "output_type": "execute_result"
    }
   ],
   "source": [
    "check_date_list"
   ]
  },
  {
   "cell_type": "code",
   "execution_count": 42,
   "metadata": {},
   "outputs": [],
   "source": [
    "df_check_date_count = pd.DataFrame()\n",
    "\n",
    "for i in check_date_list:\n",
    "    df_check_date_count = pd.concat([df_check_date_count,news_total.query(f'news_date == \"{i}\"')])"
   ]
  },
  {
   "cell_type": "code",
   "execution_count": 53,
   "metadata": {},
   "outputs": [
    {
     "data": {
      "text/plain": [
       "DatetimeIndex(['2024-02-29', '2024-03-04', '2023-08-24', '2024-04-15',\n",
       "               '2024-01-05', '2023-10-05', '2024-03-27', '2024-02-20',\n",
       "               '2023-03-07', '2022-06-17', '2023-03-17', '2024-01-06'],\n",
       "              dtype='datetime64[ns]', name='news_date', freq=None)"
      ]
     },
     "execution_count": 53,
     "metadata": {},
     "output_type": "execute_result"
    }
   ],
   "source": [
    "df_check_date_count['news_date'].value_counts().index"
   ]
  },
  {
   "cell_type": "code",
   "execution_count": 81,
   "metadata": {},
   "outputs": [
    {
     "data": {
      "image/png": "[encoded data removed]",
      "text/plain": [
       "<Figure size 1200x600 with 1 Axes>"
      ]
     },
     "metadata": {},
     "output_type": "display_data"
    }
   ],
   "source": [
    "plt.figure(figsize=(12, 6))\n",
    "\n",
    "\n",
    "sns.barplot(data=df_check, x='timestamp', y='check_point_rate')\n",
    "\n",
    "\n",
    "plt.xticks(rotation = 45)\n",
    "plt.title('토큰 가격 상승률 10% 이상인 날짜')\n",
    "\n",
    "plt.show()"
   ]
  },
  {
   "cell_type": "code",
   "execution_count": 102,
   "metadata": {},
   "outputs": [
    {
     "data": {
      "image/png": "[encoded data removed]",
      "text/plain": [
       "<Figure size 640x480 with 1 Axes>"
      ]
     },
     "metadata": {},
     "output_type": "display_data"
    }
   ],
   "source": [
    "sns.countplot(data=df_check_date_count,x='news_date',color='lightpink')\n",
    "plt.xticks(rotation = 45)\n",
    "plt.title('주요 날짜별 뉴스 개수')\n",
    "\n",
    "plt.show()\n"
   ]
  },
  {
   "cell_type": "markdown",
   "metadata": {},
   "source": [
    "### 뉴스 LDA 분석"
   ]
  },
  {
   "cell_type": "code",
   "execution_count": 105,
   "metadata": {},
   "outputs": [],
   "source": [
    "# 영어, 한글만 선택\n",
    "import re\n",
    "\n",
    "def replace_text(text):\n",
    "    text = text.replace('\\\\n',' ')\n",
    "    text = re.sub(r'[^a-zA-Z가-힣\\s]',' ',text)\n",
    "    return text "
   ]
  },
  {
   "cell_type": "code",
   "execution_count": 106,
   "metadata": {},
   "outputs": [],
   "source": [
    "df_check_date_count['newText'] = df_check_date_count['news_title'] + ' ' + df_check_date_count['news_contents']\n",
    "df_check_date_count['newText'] = df_check_date_count['newText'].apply(replace_text)"
   ]
  },
  {
   "cell_type": "markdown",
   "metadata": {},
   "source": [
    "### 토큰, 벡터라이징"
   ]
  },
  {
   "cell_type": "code",
   "execution_count": 107,
   "metadata": {},
   "outputs": [
    {
     "ename": "ModuleNotFoundError",
     "evalue": "No module named 'jpype'",
     "output_type": "error",
     "traceback": [
      "\u001b[1;31m---------------------------------------------------------------------------\u001b[0m",
      "\u001b[1;31mModuleNotFoundError\u001b[0m                       Traceback (most recent call last)",
      "Cell \u001b[1;32mIn[107], line 1\u001b[0m\n\u001b[1;32m----> 1\u001b[0m \u001b[38;5;28;01mfrom\u001b[39;00m \u001b[38;5;21;01mkonlpy\u001b[39;00m\u001b[38;5;21;01m.\u001b[39;00m\u001b[38;5;21;01mtag\u001b[39;00m \u001b[38;5;28;01mimport\u001b[39;00m Okt\n\u001b[0;32m      2\u001b[0m stopword \u001b[38;5;241m=\u001b[39m [\u001b[38;5;124m'\u001b[39m\u001b[38;5;124m도\u001b[39m\u001b[38;5;124m'\u001b[39m, \u001b[38;5;124m'\u001b[39m\u001b[38;5;124m는\u001b[39m\u001b[38;5;124m'\u001b[39m, \u001b[38;5;124m'\u001b[39m\u001b[38;5;124m다\u001b[39m\u001b[38;5;124m'\u001b[39m, \u001b[38;5;124m'\u001b[39m\u001b[38;5;124m의\u001b[39m\u001b[38;5;124m'\u001b[39m, \u001b[38;5;124m'\u001b[39m\u001b[38;5;124m가\u001b[39m\u001b[38;5;124m'\u001b[39m, \u001b[38;5;124m'\u001b[39m\u001b[38;5;124m이\u001b[39m\u001b[38;5;124m'\u001b[39m, \u001b[38;5;124m'\u001b[39m\u001b[38;5;124m은\u001b[39m\u001b[38;5;124m'\u001b[39m, \u001b[38;5;124m'\u001b[39m\u001b[38;5;124m한\u001b[39m\u001b[38;5;124m'\u001b[39m, \u001b[38;5;124m'\u001b[39m\u001b[38;5;124m에\u001b[39m\u001b[38;5;124m'\u001b[39m, \u001b[38;5;124m'\u001b[39m\u001b[38;5;124m하\u001b[39m\u001b[38;5;124m'\u001b[39m, \u001b[38;5;124m'\u001b[39m\u001b[38;5;124m고\u001b[39m\u001b[38;5;124m'\u001b[39m, \u001b[38;5;124m'\u001b[39m\u001b[38;5;124m을\u001b[39m\u001b[38;5;124m'\u001b[39m, \u001b[38;5;124m'\u001b[39m\u001b[38;5;124m를\u001b[39m\u001b[38;5;124m'\u001b[39m, \u001b[38;5;124m'\u001b[39m\u001b[38;5;124m인\u001b[39m\u001b[38;5;124m'\u001b[39m, \u001b[38;5;124m'\u001b[39m\u001b[38;5;124m듯\u001b[39m\u001b[38;5;124m'\u001b[39m, \u001b[38;5;124m'\u001b[39m\u001b[38;5;124m과\u001b[39m\u001b[38;5;124m'\u001b[39m, \u001b[38;5;124m'\u001b[39m\u001b[38;5;124m와\u001b[39m\u001b[38;5;124m'\u001b[39m, \u001b[38;5;124m'\u001b[39m\u001b[38;5;124m네\u001b[39m\u001b[38;5;124m'\u001b[39m, \u001b[38;5;124m'\u001b[39m\u001b[38;5;124m들\u001b[39m\u001b[38;5;124m'\u001b[39m, \u001b[38;5;124m'\u001b[39m\u001b[38;5;124m듯\u001b[39m\u001b[38;5;124m'\u001b[39m, \u001b[38;5;124m'\u001b[39m\u001b[38;5;124m지\u001b[39m\u001b[38;5;124m'\u001b[39m, \u001b[38;5;124m'\u001b[39m\u001b[38;5;124m임\u001b[39m\u001b[38;5;124m'\u001b[39m, \u001b[38;5;124m'\u001b[39m\u001b[38;5;124m게\u001b[39m\u001b[38;5;124m'\u001b[39m,\u001b[38;5;124m'\u001b[39m\u001b[38;5;124m의\u001b[39m\u001b[38;5;124m'\u001b[39m,\u001b[38;5;124m'\u001b[39m\u001b[38;5;124m가\u001b[39m\u001b[38;5;124m'\u001b[39m,\u001b[38;5;124m'\u001b[39m\u001b[38;5;124m들\u001b[39m\u001b[38;5;124m'\u001b[39m,\u001b[38;5;124m'\u001b[39m\u001b[38;5;124m는\u001b[39m\u001b[38;5;124m'\u001b[39m,\u001b[38;5;124m'\u001b[39m\u001b[38;5;124m좀\u001b[39m\u001b[38;5;124m'\u001b[39m,\u001b[38;5;124m'\u001b[39m\u001b[38;5;124m잘\u001b[39m\u001b[38;5;124m'\u001b[39m,\u001b[38;5;124m'\u001b[39m\u001b[38;5;124m걍\u001b[39m\u001b[38;5;124m'\u001b[39m,\u001b[38;5;124m'\u001b[39m\u001b[38;5;124m과\u001b[39m\u001b[38;5;124m'\u001b[39m,\u001b[38;5;124m'\u001b[39m\u001b[38;5;124m도\u001b[39m\u001b[38;5;124m'\u001b[39m,\u001b[38;5;124m'\u001b[39m\u001b[38;5;124m를\u001b[39m\u001b[38;5;124m'\u001b[39m,\u001b[38;5;124m'\u001b[39m\u001b[38;5;124m으로\u001b[39m\u001b[38;5;124m'\u001b[39m,\u001b[38;5;124m'\u001b[39m\u001b[38;5;124m자\u001b[39m\u001b[38;5;124m'\u001b[39m,\u001b[38;5;124m'\u001b[39m\u001b[38;5;124m에\u001b[39m\u001b[38;5;124m'\u001b[39m,\u001b[38;5;124m'\u001b[39m\u001b[38;5;124m와\u001b[39m\u001b[38;5;124m'\u001b[39m,\u001b[38;5;124m'\u001b[39m\u001b[38;5;124m한\u001b[39m\u001b[38;5;124m'\u001b[39m,\u001b[38;5;124m'\u001b[39m\u001b[38;5;124m하다\u001b[39m\u001b[38;5;124m'\u001b[39m]\n\u001b[0;32m      4\u001b[0m \u001b[38;5;66;03m# Okt 형태소 분석기 인스턴스 생성\u001b[39;00m\n",
      "File \u001b[1;32m~\\AppData\\Local\\Packages\\PythonSoftwareFoundation.Python.3.11_qbz5n2kfra8p0\\LocalCache\\local-packages\\Python311\\site-packages\\konlpy\\__init__.py:12\u001b[0m\n\u001b[0;32m      9\u001b[0m     \u001b[38;5;28;01mpass\u001b[39;00m\n\u001b[0;32m     11\u001b[0m \u001b[38;5;28;01mfrom\u001b[39;00m \u001b[38;5;21;01mkonlpy\u001b[39;00m\u001b[38;5;21;01m.\u001b[39;00m\u001b[38;5;21;01mjvm\u001b[39;00m \u001b[38;5;28;01mimport\u001b[39;00m init_jvm\n\u001b[1;32m---> 12\u001b[0m \u001b[38;5;28;01mfrom\u001b[39;00m \u001b[38;5;21;01mkonlpy\u001b[39;00m \u001b[38;5;28;01mimport\u001b[39;00m (\n\u001b[0;32m     13\u001b[0m     corpus,\n\u001b[0;32m     14\u001b[0m     data,\n\u001b[0;32m     15\u001b[0m     internals,\n\u001b[0;32m     16\u001b[0m     tag\n\u001b[0;32m     17\u001b[0m )\n",
      "File \u001b[1;32m~\\AppData\\Local\\Packages\\PythonSoftwareFoundation.Python.3.11_qbz5n2kfra8p0\\LocalCache\\local-packages\\Python311\\site-packages\\konlpy\\tag\\__init__.py:6\u001b[0m\n\u001b[0;32m      3\u001b[0m \u001b[38;5;28;01mimport\u001b[39;00m \u001b[38;5;21;01msys\u001b[39;00m\n\u001b[0;32m      4\u001b[0m \u001b[38;5;28;01mimport\u001b[39;00m \u001b[38;5;21;01mwarnings\u001b[39;00m\n\u001b[1;32m----> 6\u001b[0m \u001b[38;5;28;01mfrom\u001b[39;00m \u001b[38;5;21;01mkonlpy\u001b[39;00m\u001b[38;5;21;01m.\u001b[39;00m\u001b[38;5;21;01mtag\u001b[39;00m\u001b[38;5;21;01m.\u001b[39;00m\u001b[38;5;21;01m_hannanum\u001b[39;00m \u001b[38;5;28;01mimport\u001b[39;00m Hannanum\n\u001b[0;32m      7\u001b[0m \u001b[38;5;28;01mfrom\u001b[39;00m \u001b[38;5;21;01mkonlpy\u001b[39;00m\u001b[38;5;21;01m.\u001b[39;00m\u001b[38;5;21;01mtag\u001b[39;00m\u001b[38;5;21;01m.\u001b[39;00m\u001b[38;5;21;01m_kkma\u001b[39;00m \u001b[38;5;28;01mimport\u001b[39;00m Kkma\n\u001b[0;32m      8\u001b[0m \u001b[38;5;28;01mfrom\u001b[39;00m \u001b[38;5;21;01mkonlpy\u001b[39;00m\u001b[38;5;21;01m.\u001b[39;00m\u001b[38;5;21;01mtag\u001b[39;00m\u001b[38;5;21;01m.\u001b[39;00m\u001b[38;5;21;01m_komoran\u001b[39;00m \u001b[38;5;28;01mimport\u001b[39;00m Komoran\n",
      "File \u001b[1;32m~\\AppData\\Local\\Packages\\PythonSoftwareFoundation.Python.3.11_qbz5n2kfra8p0\\LocalCache\\local-packages\\Python311\\site-packages\\konlpy\\tag\\_hannanum.py:7\u001b[0m\n\u001b[0;32m      3\u001b[0m \u001b[38;5;28;01mfrom\u001b[39;00m \u001b[38;5;21;01m__future__\u001b[39;00m \u001b[38;5;28;01mimport\u001b[39;00m unicode_literals\n\u001b[0;32m      5\u001b[0m \u001b[38;5;28;01mimport\u001b[39;00m \u001b[38;5;21;01mre\u001b[39;00m\n\u001b[1;32m----> 7\u001b[0m \u001b[38;5;28;01mimport\u001b[39;00m \u001b[38;5;21;01mjpype\u001b[39;00m\n\u001b[0;32m      9\u001b[0m \u001b[38;5;28;01mfrom\u001b[39;00m \u001b[38;5;21;01mkonlpy\u001b[39;00m \u001b[38;5;28;01mimport\u001b[39;00m jvm, utils\n\u001b[0;32m     10\u001b[0m \u001b[38;5;28;01mfrom\u001b[39;00m \u001b[38;5;21;01mkonlpy\u001b[39;00m\u001b[38;5;21;01m.\u001b[39;00m\u001b[38;5;21;01mtag\u001b[39;00m\u001b[38;5;21;01m.\u001b[39;00m\u001b[38;5;21;01m_common\u001b[39;00m \u001b[38;5;28;01mimport\u001b[39;00m validate_phrase_inputs\n",
      "\u001b[1;31mModuleNotFoundError\u001b[0m: No module named 'jpype'"
     ]
    }
   ],
   "source": [
    "from konlpy.tag import Okt\n",
    "stopword = ['도', '는', '다', '의', '가', '이', '은', '한', '에', '하', '고', '을', '를', '인', '듯', '과', '와', '네', '들', '듯', '지', '임', '게','의','가','들','는','좀','잘','걍','과','도','를','으로','자','에','와','한','하다']\n",
    "\n",
    "# Okt 형태소 분석기 인스턴스 생성\n",
    "okt = Okt()\n",
    "\n",
    "import numpy as np\n",
    "\n",
    "\n",
    "# 토크나이징 함수 정의\n",
    "def tokenizer(raw, pos=[\"Noun\",\"Alpha\",\"Verb\",\"Number\"], stopword=stopword):\n",
    "\n",
    "  get_list = []\n",
    "\n",
    "  for word, tag in okt.pos(raw,norm=True,stem=True):\n",
    "    if len(word) <= 1:\n",
    "      word = '공란'\n",
    "\n",
    "    if tag in pos and word not in stopword:\n",
    "      get_list.append(word)\n",
    "    else:\n",
    "      get_list.append('공란')\n",
    "    pass\n",
    "\n",
    "\n",
    "  return get_list"
   ]
  },
  {
   "cell_type": "code",
   "execution_count": null,
   "metadata": {},
   "outputs": [],
   "source": [
    "from sklearn.feature_extraction.text import TfidfVectorizer\n",
    "vectorizer = TfidfVectorizer(tokenizer=tokenizer, use_idf=True)"
   ]
  },
  {
   "cell_type": "code",
   "execution_count": 104,
   "metadata": {},
   "outputs": [
    {
     "data": {
      "text/html": [
       "<div>\n",
       "<style scoped>\n",
       "    .dataframe tbody tr th:only-of-type {\n",
       "        vertical-align: middle;\n",
       "    }\n",
       "\n",
       "    .dataframe tbody tr th {\n",
       "        vertical-align: top;\n",
       "    }\n",
       "\n",
       "    .dataframe thead th {\n",
       "        text-align: right;\n",
       "    }\n",
       "</style>\n",
       "<table border=\"1\" class=\"dataframe\">\n",
       "  <thead>\n",
       "    <tr style=\"text-align: right;\">\n",
       "      <th></th>\n",
       "      <th>news_title</th>\n",
       "      <th>news_date</th>\n",
       "      <th>news_contents</th>\n",
       "    </tr>\n",
       "  </thead>\n",
       "  <tbody>\n",
       "    <tr>\n",
       "      <th>100</th>\n",
       "      <td>노트북에서 눈 떼면 파란 제주 바다 '워케이션' 성지 될 세화리 '질그랭이'</td>\n",
       "      <td>2022-06-17</td>\n",
       "      <td>마을 주민 주도로 운영하는 공간\\n스타트업 연결돼 3억원 수익 기대 제주시 구좌읍 ...</td>\n",
       "    </tr>\n",
       "    <tr>\n",
       "      <th>227</th>\n",
       "      <td>거래소, 폴라리스오피스에 현저한 시황변동 관련 조회공시 요구</td>\n",
       "      <td>2023-03-07</td>\n",
       "      <td>[이데일리 이용성 기자] 한국거래소 코스닥시장본부는 폴라리스오피스(041020)에 ...</td>\n",
       "    </tr>\n",
       "    <tr>\n",
       "      <th>228</th>\n",
       "      <td>7일 장 마감 후 주요 종목 뉴스</td>\n",
       "      <td>2023-03-07</td>\n",
       "      <td>[이데일리 양지윤 기자] 다음은 7일 장 마감 후 주요 종목뉴스다.\\n△DB하이텍(...</td>\n",
       "    </tr>\n",
       "    <tr>\n",
       "      <th>237</th>\n",
       "      <td>[특징주] 폴라리스오피스, MS '사무용 소프트웨어' 생성 AI 탑재에 강세</td>\n",
       "      <td>2023-03-17</td>\n",
       "      <td>마이크로소프트(MS)가 생성형 인공지능(AI) 기술 적용을 사무용 소프트웨어 오피스...</td>\n",
       "    </tr>\n",
       "    <tr>\n",
       "      <th>403</th>\n",
       "      <td>KB證 \"폴라리스오피스, AI 오피스 출시 주목\"</td>\n",
       "      <td>2023-08-24</td>\n",
       "      <td>[서울=뉴시스] 김경택 기자 = KB증권은 24일 폴라리스오피스에 대해 인공지능(A...</td>\n",
       "    </tr>\n",
       "    <tr>\n",
       "      <th>...</th>\n",
       "      <td>...</td>\n",
       "      <td>...</td>\n",
       "      <td>...</td>\n",
       "    </tr>\n",
       "    <tr>\n",
       "      <th>833</th>\n",
       "      <td>폴라리스오피스, 과기부 국책과제 공동연구개발기관 선정</td>\n",
       "      <td>2024-04-15</td>\n",
       "      <td>[이데일리 이정현 기자] 폴라리스오피스(041020)는 과학기술정보통신부의 신규 국...</td>\n",
       "    </tr>\n",
       "    <tr>\n",
       "      <th>834</th>\n",
       "      <td>이노그리드, 50억 규모 AI 서비스형플랫폼 개발 총괄 맡아</td>\n",
       "      <td>2024-04-15</td>\n",
       "      <td>[이 기사에 나온 스타트업에 대한 보다 다양한 기업정보는 유니콘팩토리 빅데이터 플랫...</td>\n",
       "    </tr>\n",
       "    <tr>\n",
       "      <th>835</th>\n",
       "      <td>이노그리드, 50억 규모 'AI 서비스형플랫폼' 개발 과제 수주</td>\n",
       "      <td>2024-04-15</td>\n",
       "      <td>주관사업자로 '기술 개발→플랫폼 구축→산업 실증' 전 과정 주도\\n\"AI에 최적화된...</td>\n",
       "    </tr>\n",
       "    <tr>\n",
       "      <th>836</th>\n",
       "      <td>이노그리드, AI 최적화된 PaaS 기술 개발 과제 수주</td>\n",
       "      <td>2024-04-15</td>\n",
       "      <td>이노그리드 로고 이미지\\n이노그리드가 과학기술정보통신부와 정보통신기획평가원(IITP...</td>\n",
       "    </tr>\n",
       "    <tr>\n",
       "      <th>837</th>\n",
       "      <td>\"AI에 최적화한 PaaS 개발\"···이노그리드, 50억 사업 수주</td>\n",
       "      <td>2024-04-15</td>\n",
       "      <td>2026년까지 3년간 진행...써로마인드·KISTI·바이오브레인·소프트온넷·폴라리스...</td>\n",
       "    </tr>\n",
       "  </tbody>\n",
       "</table>\n",
       "<p>87 rows × 3 columns</p>\n",
       "</div>"
      ],
      "text/plain": [
       "                                     news_title  news_date  \\\n",
       "100  노트북에서 눈 떼면 파란 제주 바다 '워케이션' 성지 될 세화리 '질그랭이' 2022-06-17   \n",
       "227           거래소, 폴라리스오피스에 현저한 시황변동 관련 조회공시 요구 2023-03-07   \n",
       "228                          7일 장 마감 후 주요 종목 뉴스 2023-03-07   \n",
       "237  [특징주] 폴라리스오피스, MS '사무용 소프트웨어' 생성 AI 탑재에 강세 2023-03-17   \n",
       "403                 KB證 \"폴라리스오피스, AI 오피스 출시 주목\" 2023-08-24   \n",
       "..                                          ...        ...   \n",
       "833               폴라리스오피스, 과기부 국책과제 공동연구개발기관 선정 2024-04-15   \n",
       "834           이노그리드, 50억 규모 AI 서비스형플랫폼 개발 총괄 맡아 2024-04-15   \n",
       "835         이노그리드, 50억 규모 'AI 서비스형플랫폼' 개발 과제 수주 2024-04-15   \n",
       "836             이노그리드, AI 최적화된 PaaS 기술 개발 과제 수주 2024-04-15   \n",
       "837       \"AI에 최적화한 PaaS 개발\"···이노그리드, 50억 사업 수주 2024-04-15   \n",
       "\n",
       "                                         news_contents  \n",
       "100  마을 주민 주도로 운영하는 공간\\n스타트업 연결돼 3억원 수익 기대 제주시 구좌읍 ...  \n",
       "227  [이데일리 이용성 기자] 한국거래소 코스닥시장본부는 폴라리스오피스(041020)에 ...  \n",
       "228  [이데일리 양지윤 기자] 다음은 7일 장 마감 후 주요 종목뉴스다.\\n△DB하이텍(...  \n",
       "237  마이크로소프트(MS)가 생성형 인공지능(AI) 기술 적용을 사무용 소프트웨어 오피스...  \n",
       "403  [서울=뉴시스] 김경택 기자 = KB증권은 24일 폴라리스오피스에 대해 인공지능(A...  \n",
       "..                                                 ...  \n",
       "833  [이데일리 이정현 기자] 폴라리스오피스(041020)는 과학기술정보통신부의 신규 국...  \n",
       "834  [이 기사에 나온 스타트업에 대한 보다 다양한 기업정보는 유니콘팩토리 빅데이터 플랫...  \n",
       "835  주관사업자로 '기술 개발→플랫폼 구축→산업 실증' 전 과정 주도\\n\"AI에 최적화된...  \n",
       "836  이노그리드 로고 이미지\\n이노그리드가 과학기술정보통신부와 정보통신기획평가원(IITP...  \n",
       "837  2026년까지 3년간 진행...써로마인드·KISTI·바이오브레인·소프트온넷·폴라리스...  \n",
       "\n",
       "[87 rows x 3 columns]"
      ]
     },
     "execution_count": 104,
     "metadata": {},
     "output_type": "execute_result"
    }
   ],
   "source": [
    "df_check_date_count"
   ]
  },
  {
   "cell_type": "code",
   "execution_count": null,
   "metadata": {},
   "outputs": [],
   "source": []
  }
 ],
 "metadata": {
  "kernelspec": {
   "display_name": "Python 3",
   "language": "python",
   "name": "python3"
  },
  "language_info": {
   "codemirror_mode": {
    "name": "ipython",
    "version": 3
   },
   "file_extension": ".py",
   "mimetype": "text/x-python",
   "name": "python",
   "nbconvert_exporter": "python",
   "pygments_lexer": "ipython3",
   "version": "3.11.9"
  }
 },
 "nbformat": 4,
 "nbformat_minor": 2
}
