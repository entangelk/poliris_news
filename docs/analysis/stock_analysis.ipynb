{
 "cells": [
  {
   "cell_type": "code",
   "execution_count": 1,
   "metadata": {},
   "outputs": [
    {
     "name": "stdout",
     "output_type": "stream",
     "text": [
      "Reading package lists... Done\n",
      "Building dependency tree... Done\n",
      "Reading state information... Done\n",
      "fonts-nanum is already the newest version (20200506-1).\n",
      "0 upgraded, 0 newly installed, 0 to remove and 0 not upgraded.\n",
      "Font directories:\n",
      "\t/root/.local/share/fonts\n",
      "\t/usr/local/share/fonts\n",
      "\t/usr/share/fonts\n",
      "\t/root/.fonts\n",
      "\t/usr/share/fonts/truetype\n",
      "\t/usr/share/fonts/truetype/dejavu\n",
      "\t/usr/share/fonts/truetype/liberation\n",
      "\t/usr/share/fonts/truetype/nanum\n",
      "/root/.local/share/fonts: skipping, no such directory\n",
      "/usr/local/share/fonts: caching, new cache contents: 0 fonts, 0 dirs\n",
      "/usr/share/fonts: caching, new cache contents: 0 fonts, 1 dirs\n",
      "/usr/share/fonts/truetype: caching, new cache contents: 0 fonts, 3 dirs\n",
      "/usr/share/fonts/truetype/dejavu: caching, new cache contents: 22 fonts, 0 dirs\n",
      "/usr/share/fonts/truetype/liberation: caching, new cache contents: 16 fonts, 0 dirs\n",
      "/usr/share/fonts/truetype/nanum: caching, new cache contents: 12 fonts, 0 dirs\n",
      "/root/.fonts: skipping, no such directory\n",
      "/usr/share/fonts/truetype: skipping, looped directory detected\n",
      "/usr/share/fonts/truetype/dejavu: skipping, looped directory detected\n",
      "/usr/share/fonts/truetype/liberation: skipping, looped directory detected\n",
      "/usr/share/fonts/truetype/nanum: skipping, looped directory detected\n",
      "/var/cache/fontconfig: cleaning cache directory\n",
      "/root/.cache/fontconfig: not cleaning non-existent cache directory\n",
      "/root/.fontconfig: not cleaning non-existent cache directory\n",
      "fc-cache: succeeded\n"
     ]
    }
   ],
   "source": [
    "import pandas as pd\n",
    "\n",
    "import warnings\n",
    "warnings.filterwarnings('ignore')\n",
    "\n",
    "!apt-get -y install fonts-nanum\n",
    "!fc-cache -fv\n",
    "!rm ~/.cache/matplotlib -rf"
   ]
  },
  {
   "cell_type": "markdown",
   "metadata": {},
   "source": [
    "## 주식 데이터"
   ]
  },
  {
   "cell_type": "code",
   "execution_count": 2,
   "metadata": {},
   "outputs": [],
   "source": [
    "pola_stock = pd.read_csv('../data/get_stock.polaris.csv')"
   ]
  },
  {
   "cell_type": "code",
   "execution_count": 3,
   "metadata": {},
   "outputs": [],
   "source": [
    "pola_stock = pola_stock.dropna(subset=['date'])"
   ]
  },
  {
   "cell_type": "code",
   "execution_count": 4,
   "metadata": {},
   "outputs": [],
   "source": [
    "# 전일비 변환작업 및 null값 업데이트\n",
    "\n",
    "for i in range(len(pola_stock)-1):    \n",
    "    daily_change = pola_stock['end_price'].iloc[i] - pola_stock['end_price'].iloc[i+1]\n",
    "    pola_stock['daily_change'].iloc[i] = daily_change\n",
    "\n",
    "    if i == len(pola_stock)-1:\n",
    "        pola_stock['daily_change'].iloc[len(pola_stock)] = int(pola_stock['daily_change'].iloc[len(pola_stock)])"
   ]
  },
  {
   "cell_type": "markdown",
   "metadata": {},
   "source": [
    "## 토큰 데이터"
   ]
  },
  {
   "cell_type": "code",
   "execution_count": 5,
   "metadata": {},
   "outputs": [],
   "source": [
    "pola_token_get = pd.read_json('../data/pola_token.json')"
   ]
  },
  {
   "cell_type": "code",
   "execution_count": 6,
   "metadata": {},
   "outputs": [
    {
     "data": {
      "text/plain": [
       "t    [1605711600000, 1605798000000, 1605884400000, ...\n",
       "o    [30.01, 482.9, 595.6, 550, 475.2, 3600, 2960, ...\n",
       "h    [670, 697.5, 648.1, 600.6, 5000, 3944, 4015, 3...\n",
       "l    [30.01, 354.6, 527.2, 451.6, 475.2, 2220, 2099...\n",
       "c    [481, 596, 569.8, 483.5, 3640, 2933, 2821, 801...\n",
       "v    [97047175.524635668613744039, 684675710.297753...\n",
       "Name: data, dtype: object"
      ]
     },
     "execution_count": 6,
     "metadata": {},
     "output_type": "execute_result"
    }
   ],
   "source": [
    "pola_token_get['data']"
   ]
  },
  {
   "cell_type": "code",
   "execution_count": 7,
   "metadata": {},
   "outputs": [],
   "source": [
    "pola_token = pd.DataFrame()\n",
    "pola_token['timestamp'] = pola_token_get['data'][0]\n",
    "pola_token['open_price'] = pola_token_get['data'][1]\n",
    "pola_token['high_price'] = pola_token_get['data'][2]\n",
    "pola_token['low_price'] = pola_token_get['data'][3]\n",
    "pola_token['close_price'] = pola_token_get['data'][4]\n",
    "pola_token['trade_volume'] = pola_token_get['data'][5]"
   ]
  },
  {
   "cell_type": "code",
   "execution_count": 8,
   "metadata": {},
   "outputs": [
    {
     "data": {
      "text/html": [
       "<div>\n",
       "<style scoped>\n",
       "    .dataframe tbody tr th:only-of-type {\n",
       "        vertical-align: middle;\n",
       "    }\n",
       "\n",
       "    .dataframe tbody tr th {\n",
       "        vertical-align: top;\n",
       "    }\n",
       "\n",
       "    .dataframe thead th {\n",
       "        text-align: right;\n",
       "    }\n",
       "</style>\n",
       "<table border=\"1\" class=\"dataframe\">\n",
       "  <thead>\n",
       "    <tr style=\"text-align: right;\">\n",
       "      <th></th>\n",
       "      <th>timestamp</th>\n",
       "      <th>open_price</th>\n",
       "      <th>high_price</th>\n",
       "      <th>low_price</th>\n",
       "      <th>close_price</th>\n",
       "      <th>trade_volume</th>\n",
       "    </tr>\n",
       "  </thead>\n",
       "  <tbody>\n",
       "    <tr>\n",
       "      <th>0</th>\n",
       "      <td>1605711600000</td>\n",
       "      <td>30.01</td>\n",
       "      <td>670</td>\n",
       "      <td>30.01</td>\n",
       "      <td>481</td>\n",
       "      <td>97047175.524635668613744039</td>\n",
       "    </tr>\n",
       "    <tr>\n",
       "      <th>1</th>\n",
       "      <td>1605798000000</td>\n",
       "      <td>482.9</td>\n",
       "      <td>697.5</td>\n",
       "      <td>354.6</td>\n",
       "      <td>596</td>\n",
       "      <td>684675710.297753710545601948</td>\n",
       "    </tr>\n",
       "    <tr>\n",
       "      <th>2</th>\n",
       "      <td>1605884400000</td>\n",
       "      <td>595.6</td>\n",
       "      <td>648.1</td>\n",
       "      <td>527.2</td>\n",
       "      <td>569.8</td>\n",
       "      <td>959839313.520329676084903356</td>\n",
       "    </tr>\n",
       "    <tr>\n",
       "      <th>3</th>\n",
       "      <td>1605970800000</td>\n",
       "      <td>550</td>\n",
       "      <td>600.6</td>\n",
       "      <td>451.6</td>\n",
       "      <td>483.5</td>\n",
       "      <td>9698525.496211397492328175</td>\n",
       "    </tr>\n",
       "    <tr>\n",
       "      <th>4</th>\n",
       "      <td>1606057200000</td>\n",
       "      <td>475.2</td>\n",
       "      <td>5000</td>\n",
       "      <td>475.2</td>\n",
       "      <td>3640</td>\n",
       "      <td>67830701.70380660742383707</td>\n",
       "    </tr>\n",
       "    <tr>\n",
       "      <th>...</th>\n",
       "      <td>...</td>\n",
       "      <td>...</td>\n",
       "      <td>...</td>\n",
       "      <td>...</td>\n",
       "      <td>...</td>\n",
       "      <td>...</td>\n",
       "    </tr>\n",
       "    <tr>\n",
       "      <th>1246</th>\n",
       "      <td>1713366000000</td>\n",
       "      <td>56.5</td>\n",
       "      <td>58</td>\n",
       "      <td>51.2</td>\n",
       "      <td>54.16</td>\n",
       "      <td>51958548.788103589176785507</td>\n",
       "    </tr>\n",
       "    <tr>\n",
       "      <th>1247</th>\n",
       "      <td>1713452400000</td>\n",
       "      <td>54.16</td>\n",
       "      <td>54.33</td>\n",
       "      <td>46</td>\n",
       "      <td>52.16</td>\n",
       "      <td>42951779.193584789613648723</td>\n",
       "    </tr>\n",
       "    <tr>\n",
       "      <th>1248</th>\n",
       "      <td>1713538800000</td>\n",
       "      <td>52.17</td>\n",
       "      <td>52.17</td>\n",
       "      <td>49.38</td>\n",
       "      <td>51.17</td>\n",
       "      <td>15439860.527550924633344107</td>\n",
       "    </tr>\n",
       "    <tr>\n",
       "      <th>1249</th>\n",
       "      <td>1713625200000</td>\n",
       "      <td>51.18</td>\n",
       "      <td>53.77</td>\n",
       "      <td>50.67</td>\n",
       "      <td>51.97</td>\n",
       "      <td>22002388.083048372683249285</td>\n",
       "    </tr>\n",
       "    <tr>\n",
       "      <th>1250</th>\n",
       "      <td>1713711600000</td>\n",
       "      <td>51.97</td>\n",
       "      <td>53.16</td>\n",
       "      <td>50.68</td>\n",
       "      <td>51.58</td>\n",
       "      <td>7902216.880580430854621639</td>\n",
       "    </tr>\n",
       "  </tbody>\n",
       "</table>\n",
       "<p>1251 rows × 6 columns</p>\n",
       "</div>"
      ],
      "text/plain": [
       "          timestamp open_price high_price low_price close_price  \\\n",
       "0     1605711600000      30.01        670     30.01         481   \n",
       "1     1605798000000      482.9      697.5     354.6         596   \n",
       "2     1605884400000      595.6      648.1     527.2       569.8   \n",
       "3     1605970800000        550      600.6     451.6       483.5   \n",
       "4     1606057200000      475.2       5000     475.2        3640   \n",
       "...             ...        ...        ...       ...         ...   \n",
       "1246  1713366000000       56.5         58      51.2       54.16   \n",
       "1247  1713452400000      54.16      54.33        46       52.16   \n",
       "1248  1713538800000      52.17      52.17     49.38       51.17   \n",
       "1249  1713625200000      51.18      53.77     50.67       51.97   \n",
       "1250  1713711600000      51.97      53.16     50.68       51.58   \n",
       "\n",
       "                      trade_volume  \n",
       "0      97047175.524635668613744039  \n",
       "1     684675710.297753710545601948  \n",
       "2     959839313.520329676084903356  \n",
       "3       9698525.496211397492328175  \n",
       "4       67830701.70380660742383707  \n",
       "...                            ...  \n",
       "1246   51958548.788103589176785507  \n",
       "1247   42951779.193584789613648723  \n",
       "1248   15439860.527550924633344107  \n",
       "1249   22002388.083048372683249285  \n",
       "1250    7902216.880580430854621639  \n",
       "\n",
       "[1251 rows x 6 columns]"
      ]
     },
     "execution_count": 8,
     "metadata": {},
     "output_type": "execute_result"
    }
   ],
   "source": [
    "pola_token"
   ]
  },
  {
   "cell_type": "code",
   "execution_count": 9,
   "metadata": {},
   "outputs": [],
   "source": [
    "import datetime\n",
    "\n",
    "def change_datetime(text):\n",
    "\n",
    "    # Epoch time을 기준으로 한 초 단위로 변환\n",
    "    timestamp_s = text / 1000\n",
    "\n",
    "    # 한국 시간대로 변환\n",
    "    korea_time = datetime.datetime.utcfromtimestamp(timestamp_s) + datetime.timedelta(hours=9)\n",
    "\n",
    "    korea_time = korea_time.strftime('%Y-%m-%d')\n",
    "\n",
    "    return korea_time"
   ]
  },
  {
   "cell_type": "code",
   "execution_count": 10,
   "metadata": {},
   "outputs": [],
   "source": [
    "pola_token['timestamp'] = pola_token['timestamp'].apply(change_datetime)"
   ]
  },
  {
   "cell_type": "code",
   "execution_count": 11,
   "metadata": {},
   "outputs": [],
   "source": [
    "pola_token['timestamp'] = pd.to_datetime(pola_token['timestamp'])"
   ]
  },
  {
   "cell_type": "code",
   "execution_count": 12,
   "metadata": {},
   "outputs": [
    {
     "data": {
      "text/html": [
       "<div>\n",
       "<style scoped>\n",
       "    .dataframe tbody tr th:only-of-type {\n",
       "        vertical-align: middle;\n",
       "    }\n",
       "\n",
       "    .dataframe tbody tr th {\n",
       "        vertical-align: top;\n",
       "    }\n",
       "\n",
       "    .dataframe thead th {\n",
       "        text-align: right;\n",
       "    }\n",
       "</style>\n",
       "<table border=\"1\" class=\"dataframe\">\n",
       "  <thead>\n",
       "    <tr style=\"text-align: right;\">\n",
       "      <th></th>\n",
       "      <th>timestamp</th>\n",
       "      <th>open_price</th>\n",
       "      <th>high_price</th>\n",
       "      <th>low_price</th>\n",
       "      <th>close_price</th>\n",
       "      <th>trade_volume</th>\n",
       "    </tr>\n",
       "  </thead>\n",
       "  <tbody>\n",
       "    <tr>\n",
       "      <th>0</th>\n",
       "      <td>2020-11-19</td>\n",
       "      <td>30.01</td>\n",
       "      <td>670</td>\n",
       "      <td>30.01</td>\n",
       "      <td>481</td>\n",
       "      <td>97047175.524635668613744039</td>\n",
       "    </tr>\n",
       "    <tr>\n",
       "      <th>1</th>\n",
       "      <td>2020-11-20</td>\n",
       "      <td>482.9</td>\n",
       "      <td>697.5</td>\n",
       "      <td>354.6</td>\n",
       "      <td>596</td>\n",
       "      <td>684675710.297753710545601948</td>\n",
       "    </tr>\n",
       "    <tr>\n",
       "      <th>2</th>\n",
       "      <td>2020-11-21</td>\n",
       "      <td>595.6</td>\n",
       "      <td>648.1</td>\n",
       "      <td>527.2</td>\n",
       "      <td>569.8</td>\n",
       "      <td>959839313.520329676084903356</td>\n",
       "    </tr>\n",
       "    <tr>\n",
       "      <th>3</th>\n",
       "      <td>2020-11-22</td>\n",
       "      <td>550</td>\n",
       "      <td>600.6</td>\n",
       "      <td>451.6</td>\n",
       "      <td>483.5</td>\n",
       "      <td>9698525.496211397492328175</td>\n",
       "    </tr>\n",
       "    <tr>\n",
       "      <th>4</th>\n",
       "      <td>2020-11-23</td>\n",
       "      <td>475.2</td>\n",
       "      <td>5000</td>\n",
       "      <td>475.2</td>\n",
       "      <td>3640</td>\n",
       "      <td>67830701.70380660742383707</td>\n",
       "    </tr>\n",
       "    <tr>\n",
       "      <th>...</th>\n",
       "      <td>...</td>\n",
       "      <td>...</td>\n",
       "      <td>...</td>\n",
       "      <td>...</td>\n",
       "      <td>...</td>\n",
       "      <td>...</td>\n",
       "    </tr>\n",
       "    <tr>\n",
       "      <th>1246</th>\n",
       "      <td>2024-04-18</td>\n",
       "      <td>56.5</td>\n",
       "      <td>58</td>\n",
       "      <td>51.2</td>\n",
       "      <td>54.16</td>\n",
       "      <td>51958548.788103589176785507</td>\n",
       "    </tr>\n",
       "    <tr>\n",
       "      <th>1247</th>\n",
       "      <td>2024-04-19</td>\n",
       "      <td>54.16</td>\n",
       "      <td>54.33</td>\n",
       "      <td>46</td>\n",
       "      <td>52.16</td>\n",
       "      <td>42951779.193584789613648723</td>\n",
       "    </tr>\n",
       "    <tr>\n",
       "      <th>1248</th>\n",
       "      <td>2024-04-20</td>\n",
       "      <td>52.17</td>\n",
       "      <td>52.17</td>\n",
       "      <td>49.38</td>\n",
       "      <td>51.17</td>\n",
       "      <td>15439860.527550924633344107</td>\n",
       "    </tr>\n",
       "    <tr>\n",
       "      <th>1249</th>\n",
       "      <td>2024-04-21</td>\n",
       "      <td>51.18</td>\n",
       "      <td>53.77</td>\n",
       "      <td>50.67</td>\n",
       "      <td>51.97</td>\n",
       "      <td>22002388.083048372683249285</td>\n",
       "    </tr>\n",
       "    <tr>\n",
       "      <th>1250</th>\n",
       "      <td>2024-04-22</td>\n",
       "      <td>51.97</td>\n",
       "      <td>53.16</td>\n",
       "      <td>50.68</td>\n",
       "      <td>51.58</td>\n",
       "      <td>7902216.880580430854621639</td>\n",
       "    </tr>\n",
       "  </tbody>\n",
       "</table>\n",
       "<p>1251 rows × 6 columns</p>\n",
       "</div>"
      ],
      "text/plain": [
       "      timestamp open_price high_price low_price close_price  \\\n",
       "0    2020-11-19      30.01        670     30.01         481   \n",
       "1    2020-11-20      482.9      697.5     354.6         596   \n",
       "2    2020-11-21      595.6      648.1     527.2       569.8   \n",
       "3    2020-11-22        550      600.6     451.6       483.5   \n",
       "4    2020-11-23      475.2       5000     475.2        3640   \n",
       "...         ...        ...        ...       ...         ...   \n",
       "1246 2024-04-18       56.5         58      51.2       54.16   \n",
       "1247 2024-04-19      54.16      54.33        46       52.16   \n",
       "1248 2024-04-20      52.17      52.17     49.38       51.17   \n",
       "1249 2024-04-21      51.18      53.77     50.67       51.97   \n",
       "1250 2024-04-22      51.97      53.16     50.68       51.58   \n",
       "\n",
       "                      trade_volume  \n",
       "0      97047175.524635668613744039  \n",
       "1     684675710.297753710545601948  \n",
       "2     959839313.520329676084903356  \n",
       "3       9698525.496211397492328175  \n",
       "4       67830701.70380660742383707  \n",
       "...                            ...  \n",
       "1246   51958548.788103589176785507  \n",
       "1247   42951779.193584789613648723  \n",
       "1248   15439860.527550924633344107  \n",
       "1249   22002388.083048372683249285  \n",
       "1250    7902216.880580430854621639  \n",
       "\n",
       "[1251 rows x 6 columns]"
      ]
     },
     "execution_count": 12,
     "metadata": {},
     "output_type": "execute_result"
    }
   ],
   "source": [
    "pola_token"
   ]
  },
  {
   "cell_type": "code",
   "execution_count": 13,
   "metadata": {},
   "outputs": [],
   "source": [
    "pola_token['close_price'] = pola_token['close_price'].apply(float)"
   ]
  },
  {
   "cell_type": "code",
   "execution_count": 14,
   "metadata": {},
   "outputs": [],
   "source": [
    "pola_stock = pola_stock.drop(columns='_id')\n",
    "pola_stock['date'] = pd.to_datetime(pola_stock['date'])\n"
   ]
  },
  {
   "cell_type": "code",
   "execution_count": 15,
   "metadata": {},
   "outputs": [],
   "source": [
    "pola_stock = pola_stock.sort_values('date')"
   ]
  },
  {
   "cell_type": "markdown",
   "metadata": {},
   "source": [
    "## 뉴스 데이터"
   ]
  },
  {
   "cell_type": "code",
   "execution_count": 16,
   "metadata": {},
   "outputs": [],
   "source": [
    "office_news = pd.read_csv('../data/news_get.daum_office_news.csv')"
   ]
  },
  {
   "cell_type": "code",
   "execution_count": 17,
   "metadata": {},
   "outputs": [],
   "source": [
    "share_news = pd.read_csv('../data/news_get.daum_news_share.csv')"
   ]
  },
  {
   "cell_type": "code",
   "execution_count": 18,
   "metadata": {},
   "outputs": [
    {
     "data": {
      "text/plain": [
       "36"
      ]
     },
     "execution_count": 18,
     "metadata": {},
     "output_type": "execute_result"
    }
   ],
   "source": [
    "len(share_news)"
   ]
  },
  {
   "cell_type": "markdown",
   "metadata": {},
   "source": [
    "- share뉴스의 갯수가 36개 밖에 안되기 때문에 뉴스를 통합하고 중복 뉴스 제거\""
   ]
  },
  {
   "cell_type": "code",
   "execution_count": 19,
   "metadata": {},
   "outputs": [],
   "source": [
    "news_total = pd.concat([office_news,share_news])"
   ]
  },
  {
   "cell_type": "code",
   "execution_count": 20,
   "metadata": {},
   "outputs": [],
   "source": [
    "news_total = news_total.drop(columns='_id').drop_duplicates().sort_values('news_date')"
   ]
  },
  {
   "cell_type": "code",
   "execution_count": 21,
   "metadata": {},
   "outputs": [],
   "source": [
    "news_total = news_total.drop(columns='news_brand').query('news_date.notna()')"
   ]
  },
  {
   "cell_type": "code",
   "execution_count": 22,
   "metadata": {},
   "outputs": [],
   "source": [
    "news_total['news_date'] = pd.to_datetime(news_total['news_date'].str.split().str[:3].str.join(' '), format=\"%Y. %m. %d.\")"
   ]
  },
  {
   "cell_type": "code",
   "execution_count": 23,
   "metadata": {},
   "outputs": [
    {
     "data": {
      "text/plain": [
       "(800, 3)"
      ]
     },
     "execution_count": 23,
     "metadata": {},
     "output_type": "execute_result"
    }
   ],
   "source": [
    "news_total.shape"
   ]
  },
  {
   "cell_type": "markdown",
   "metadata": {},
   "source": [
    "- 총 800개의 뉴스 데이터를 수집"
   ]
  },
  {
   "cell_type": "markdown",
   "metadata": {},
   "source": [
    "## 시각화\n",
    "- 뉴스 데이터가 2022-01-01부터 수집되었으므로 토큰과 주식의 그 전데이터는 삭제해준다."
   ]
  },
  {
   "cell_type": "code",
   "execution_count": 24,
   "metadata": {},
   "outputs": [],
   "source": [
    "pola_stock = pola_stock.query('date > \"2021-12-31\"')\n",
    "pola_token = pola_token.query('timestamp > \"2021-12-31\"')"
   ]
  },
  {
   "cell_type": "code",
   "execution_count": 25,
   "metadata": {},
   "outputs": [],
   "source": [
    "import matplotlib.pyplot as plt\n",
    "import seaborn as sns"
   ]
  },
  {
   "cell_type": "code",
   "execution_count": 26,
   "metadata": {},
   "outputs": [
    {
     "data": {
      "image/png": "[encoded data removed]",
      "text/plain": [
       "<Figure size 1500x600 with 2 Axes>"
      ]
     },
     "metadata": {},
     "output_type": "display_data"
    }
   ],
   "source": [
    "plt.rcParams['font.family'] = 'NanumBarunGothic'\n",
    "\n",
    "plt.figure(figsize=(15, 6))\n",
    "\n",
    "plt.subplot(1, 2, 1)\n",
    "sns.lineplot(data=pola_stock, x='date', y='end_price')\n",
    "plt.xticks(rotation = 45)\n",
    "plt.title('폴라리스오피스 주가 추이 (종가)')\n",
    "\n",
    "plt.subplot(1, 2, 2)\n",
    "sns.lineplot(data=pola_token, x='timestamp', y='close_price')\n",
    "plt.xticks(rotation = 45)\n",
    "plt.title('폴라쉐어토큰 가격 추이 (종가)')\n",
    "\n",
    "plt.tight_layout()\n",
    "\n",
    "plt.show()"
   ]
  },
  {
   "cell_type": "markdown",
   "metadata": {},
   "source": [
    "### 토큰 전일비 고가 추출"
   ]
  },
  {
   "cell_type": "code",
   "execution_count": 27,
   "metadata": {},
   "outputs": [],
   "source": [
    "pola_token['daily_change'] = pola_token['close_price'] - pola_token['open_price'].apply(float)"
   ]
  },
  {
   "cell_type": "code",
   "execution_count": 28,
   "metadata": {},
   "outputs": [],
   "source": [
    "pola_token['check_point'] = (pola_token['daily_change'] / pola_token['close_price']) > 0.1\n",
    "pola_token['check_point_rate'] = (pola_token['daily_change'] / pola_token['close_price'])"
   ]
  },
  {
   "cell_type": "code",
   "execution_count": 29,
   "metadata": {},
   "outputs": [],
   "source": [
    "df_check = pola_token.query('check_point == True')"
   ]
  },
  {
   "cell_type": "markdown",
   "metadata": {},
   "source": [
    "- 일일 10%이상 급등한 날 추출"
   ]
  },
  {
   "cell_type": "code",
   "execution_count": 30,
   "metadata": {},
   "outputs": [],
   "source": [
    "check_date_list = df_check['timestamp']"
   ]
  },
  {
   "cell_type": "code",
   "execution_count": 31,
   "metadata": {},
   "outputs": [
    {
     "data": {
      "text/plain": [
       "452    2022-02-14\n",
       "575    2022-06-17\n",
       "591    2022-07-03\n",
       "593    2022-07-05\n",
       "623    2022-08-04\n",
       "721    2022-11-10\n",
       "730    2022-11-19\n",
       "773    2023-01-01\n",
       "834    2023-03-03\n",
       "837    2023-03-06\n",
       "838    2023-03-07\n",
       "848    2023-03-17\n",
       "925    2023-06-02\n",
       "970    2023-07-17\n",
       "985    2023-08-01\n",
       "996    2023-08-12\n",
       "1008   2023-08-24\n",
       "1050   2023-10-05\n",
       "1054   2023-10-09\n",
       "1057   2023-10-12\n",
       "1090   2023-11-14\n",
       "1142   2024-01-05\n",
       "1143   2024-01-06\n",
       "1187   2024-02-19\n",
       "1188   2024-02-20\n",
       "1189   2024-02-21\n",
       "1197   2024-02-29\n",
       "1198   2024-03-01\n",
       "1201   2024-03-04\n",
       "1207   2024-03-10\n",
       "1224   2024-03-27\n",
       "1243   2024-04-15\n",
       "1244   2024-04-16\n",
       "Name: timestamp, dtype: datetime64[ns]"
      ]
     },
     "execution_count": 31,
     "metadata": {},
     "output_type": "execute_result"
    }
   ],
   "source": [
    "check_date_list"
   ]
  },
  {
   "cell_type": "code",
   "execution_count": 32,
   "metadata": {},
   "outputs": [],
   "source": [
    "df_check_date_count = pd.DataFrame()\n",
    "\n",
    "for i in check_date_list:\n",
    "    df_check_date_count = pd.concat([df_check_date_count,news_total.query(f'news_date == \"{i}\"')])"
   ]
  },
  {
   "cell_type": "code",
   "execution_count": 33,
   "metadata": {},
   "outputs": [
    {
     "data": {
      "text/plain": [
       "DatetimeIndex(['2024-02-29', '2024-03-04', '2023-08-24', '2024-04-15',\n",
       "               '2024-01-05', '2023-10-05', '2024-03-27', '2024-02-20',\n",
       "               '2023-03-07', '2022-06-17', '2023-03-17', '2024-01-06'],\n",
       "              dtype='datetime64[ns]', name='news_date', freq=None)"
      ]
     },
     "execution_count": 33,
     "metadata": {},
     "output_type": "execute_result"
    }
   ],
   "source": [
    "df_check_date_count['news_date'].value_counts().index"
   ]
  },
  {
   "cell_type": "code",
   "execution_count": 34,
   "metadata": {},
   "outputs": [
    {
     "data": {
      "image/png": "[encoded data removed]",
      "text/plain": [
       "<Figure size 1200x600 with 1 Axes>"
      ]
     },
     "metadata": {},
     "output_type": "display_data"
    }
   ],
   "source": [
    "plt.figure(figsize=(12, 6))\n",
    "\n",
    "\n",
    "sns.barplot(data=df_check, x='timestamp', y='check_point_rate')\n",
    "\n",
    "\n",
    "plt.xticks(rotation = 45)\n",
    "plt.title('토큰 가격 상승률 10% 이상인 날짜')\n",
    "\n",
    "plt.show()"
   ]
  },
  {
   "cell_type": "code",
   "execution_count": 35,
   "metadata": {},
   "outputs": [
    {
     "data": {
      "image/png": "[encoded data removed]",
      "text/plain": [
       "<Figure size 640x480 with 1 Axes>"
      ]
     },
     "metadata": {},
     "output_type": "display_data"
    }
   ],
   "source": [
    "sns.countplot(data=df_check_date_count,x='news_date',color='lightpink')\n",
    "plt.xticks(rotation = 45)\n",
    "plt.title('주요 날짜별 뉴스 개수')\n",
    "\n",
    "plt.show()\n"
   ]
  },
  {
   "cell_type": "markdown",
   "metadata": {},
   "source": [
    "## 뉴스 LDA 분석"
   ]
  },
  {
   "cell_type": "code",
   "execution_count": 36,
   "metadata": {},
   "outputs": [],
   "source": [
    "# 영어, 한글만 선택\n",
    "import re\n",
    "\n",
    "def replace_text(text):\n",
    "    text = text.replace('\\\\n',' ')\n",
    "    text = re.sub(r'[^a-zA-Z가-힣\\s]',' ',text)\n",
    "    return text "
   ]
  },
  {
   "cell_type": "code",
   "execution_count": 37,
   "metadata": {},
   "outputs": [],
   "source": [
    "df_check_date_count['newText'] = df_check_date_count['news_title'] + ' ' + df_check_date_count['news_contents']\n",
    "df_check_date_count['newText'] = df_check_date_count['newText'].apply(replace_text)"
   ]
  },
  {
   "cell_type": "markdown",
   "metadata": {},
   "source": [
    "### 토큰, 벡터라이징"
   ]
  },
  {
   "cell_type": "code",
   "execution_count": 38,
   "metadata": {},
   "outputs": [],
   "source": [
    "from konlpy.tag import Okt\n",
    "stopword = ['도', '는', '다', '의', '가', '이', '은', '한', '에', '하', '고', '을', '를', '인', '듯', '과', '와', '네', '들', '듯', '지', '임', '게','의','가','들','는','좀','잘','걍','과','도','를','으로','자','에','와','한','하다']\n",
    "\n",
    "# Okt 형태소 분석기 인스턴스 생성\n",
    "okt = Okt()\n",
    "\n",
    "import numpy as np\n",
    "\n",
    "\n",
    "# 토크나이징 함수 정의\n",
    "def tokenizer(raw, pos=[\"Noun\",\"Alpha\",\"Verb\",\"Number\"], stopword=stopword):\n",
    "\n",
    "  get_list = []\n",
    "\n",
    "  for word, tag in okt.pos(raw,norm=True,stem=True):\n",
    "    if len(word) <= 1:\n",
    "      word = '공란'\n",
    "\n",
    "    if tag in pos and word not in stopword:\n",
    "      get_list.append(word)\n",
    "    else:\n",
    "      get_list.append('공란')\n",
    "    pass\n",
    "\n",
    "\n",
    "  return get_list"
   ]
  },
  {
   "cell_type": "code",
   "execution_count": 39,
   "metadata": {},
   "outputs": [],
   "source": [
    "from sklearn.feature_extraction.text import TfidfVectorizer\n",
    "vectorizer = TfidfVectorizer(tokenizer=tokenizer, use_idf=True)"
   ]
  },
  {
   "cell_type": "markdown",
   "metadata": {},
   "source": [
    "### 군집 최적화\n",
    "- CoherenceModel 사용"
   ]
  },
  {
   "cell_type": "code",
   "execution_count": 40,
   "metadata": {},
   "outputs": [],
   "source": [
    "from scipy.linalg import triu"
   ]
  },
  {
   "cell_type": "code",
   "execution_count": 41,
   "metadata": {},
   "outputs": [],
   "source": [
    "from gensim.corpora.dictionary import Dictionary\n",
    "from gensim.models.coherencemodel import CoherenceModel\n",
    "from gensim.matutils import Sparse2Corpus"
   ]
  },
  {
   "cell_type": "code",
   "execution_count": 43,
   "metadata": {},
   "outputs": [],
   "source": [
    "def Coherence_point(vectorizer,input_text_list):\n",
    "  k_range = range(2,11)\n",
    "\n",
    "  best_n = -1\n",
    "  best_score = -1\n",
    "  best_score_list = []\n",
    "  preprocessed_texts = []\n",
    "    \n",
    "\n",
    "  for i in input_text_list:\n",
    "      preprocessed_texts.append(tokenizer(i))\n",
    "    \n",
    "\n",
    "  for k in k_range:\n",
    "\n",
    "      features = vectorizer.fit_transform(input_text_list)\n",
    "\n",
    "      from sklearn.decomposition import LatentDirichletAllocation\n",
    "\n",
    "      lda_model = LatentDirichletAllocation(n_components=k, random_state=42) #인스턴스화 #n_components 토픽의 갯수\n",
    "      lda_model.fit(features) #교육\n",
    "\n",
    "      # Gensim 사전 생성\n",
    "      dictionary = Dictionary(preprocessed_texts)    \n",
    "\n",
    "      # Gensim 코퍼스 생성\n",
    "      corpus = [dictionary.doc2bow(text) for text in preprocessed_texts]\n",
    "\n",
    "\n",
    "      # 상위 10개 단어를 추출, 비교\n",
    "      topic_words = [[dictionary[id] for id in topic.argsort()[-10:]] for topic in lda_model.components_]\n",
    "\n",
    "\n",
    "      # CoherenceModel 생성\n",
    "      coherence_model = CoherenceModel(topics=topic_words, texts=preprocessed_texts, dictionary=dictionary, coherence='c_v')\n",
    "\n",
    "      # 일관성 점수 계산\n",
    "      coherence_score = coherence_model.get_coherence()\n",
    "      \n",
    "      \n",
    "      # clusters = lda_model.transform(features).argmax(axis=1)  # 각 문서의 클러스터 할당\n",
    "\n",
    "      \n",
    "      # score = silhouette_score(features,clusters)\n",
    "\n",
    "      print('k :',k,'score :',coherence_score)\n",
    "\n",
    "      if coherence_score > best_score:\n",
    "          best_n = k\n",
    "          best_score = coherence_score\n",
    "\n",
    "  print('best n :', best_n, 'best score :', best_score)\n",
    "  print('---------------------------------------------')\n",
    "  best_score_list.append(best_n)\n",
    "\n",
    "  return best_score_list"
   ]
  },
  {
   "cell_type": "code",
   "execution_count": 47,
   "metadata": {},
   "outputs": [
    {
     "name": "stdout",
     "output_type": "stream",
     "text": [
      "2022-06-17 00:00:00 의 점수\n",
      "k : 2 score : 0.35164680762527606\n",
      "k : 3 score : 0.35164680762527606\n",
      "k : 4 score : 0.3516468076252761\n",
      "k : 5 score : 0.36100320967743793\n",
      "k : 6 score : 0.36139305976294467\n",
      "k : 7 score : 0.3616715241097352\n",
      "k : 8 score : 0.32103481879684936\n",
      "k : 9 score : 0.30416372737783914\n",
      "k : 10 score : 0.2657365601881744\n",
      "best n : 7 best score : 0.3616715241097352\n",
      "---------------------------------------------\n",
      "2023-03-07 00:00:00 의 점수\n",
      "k : 2 score : 0.5044493688896686\n",
      "k : 3 score : 0.42001404193324987\n",
      "k : 4 score : 0.48131647886532514\n",
      "k : 5 score : 0.45237814244522834\n",
      "k : 6 score : 0.44899422948223777\n",
      "k : 7 score : 0.4307468444024005\n",
      "k : 8 score : 0.45157635080274955\n",
      "k : 9 score : 0.2987436294481199\n",
      "k : 10 score : 0.560879669880745\n",
      "best n : 10 best score : 0.560879669880745\n",
      "---------------------------------------------\n",
      "2023-03-17 00:00:00 의 점수\n",
      "k : 2 score : 0.2611602091474279\n",
      "k : 3 score : 0.2402669573155282\n",
      "k : 4 score : 0.24344042962984025\n",
      "k : 5 score : 0.2436519944507943\n",
      "k : 6 score : 0.24489738694142385\n",
      "k : 7 score : 0.2450296849307352\n",
      "k : 8 score : 0.22550660946604828\n",
      "k : 9 score : 0.2513996166441737\n",
      "k : 10 score : 0.29061336851155195\n",
      "best n : 10 best score : 0.29061336851155195\n",
      "---------------------------------------------\n",
      "2023-08-24 00:00:00 의 점수\n",
      "k : 2 score : 0.5636838255579075\n",
      "k : 3 score : 0.6408348369153926\n",
      "k : 4 score : 0.5740149715907582\n",
      "k : 5 score : 0.6316563845514755\n",
      "k : 6 score : 0.6947560252126493\n",
      "k : 7 score : 0.5516612602861395\n",
      "k : 8 score : 0.5521057013314867\n",
      "k : 9 score : 0.551921921581861\n",
      "k : 10 score : 0.5920454675359943\n",
      "best n : 6 best score : 0.6947560252126493\n",
      "---------------------------------------------\n",
      "2023-10-05 00:00:00 의 점수\n",
      "k : 2 score : 0.5806276876242638\n",
      "k : 3 score : 0.5806276876242638\n",
      "k : 4 score : 0.6417087578251811\n",
      "k : 5 score : 0.515061826490349\n",
      "k : 6 score : 0.488795590263801\n",
      "k : 7 score : 0.6118859180537645\n",
      "k : 8 score : 0.4034570470979497\n",
      "k : 9 score : 0.5538530007798815\n",
      "k : 10 score : 0.5837944172953049\n",
      "best n : 4 best score : 0.6417087578251811\n",
      "---------------------------------------------\n",
      "2024-01-05 00:00:00 의 점수\n",
      "k : 2 score : 0.4924015621325438\n",
      "k : 3 score : 0.5406186962926584\n",
      "k : 4 score : 0.5740138822885212\n",
      "k : 5 score : 0.43924395589753457\n",
      "k : 6 score : 0.6040913270577266\n",
      "k : 7 score : 0.58281756630124\n",
      "k : 8 score : 0.5936830429666056\n",
      "k : 9 score : 0.5725472375313729\n",
      "k : 10 score : 0.5928674115403532\n",
      "best n : 6 best score : 0.6040913270577266\n",
      "---------------------------------------------\n",
      "2024-01-06 00:00:00 의 점수\n",
      "k : 2 score : 0.32310920420795763\n",
      "k : 3 score : 0.32310920420795763\n",
      "k : 4 score : 0.32310920420795763\n",
      "k : 5 score : 0.3383635958808616\n",
      "k : 6 score : 0.2755197328377785\n",
      "k : 7 score : 0.25926691528038287\n",
      "k : 8 score : 0.3013598132419233\n",
      "k : 9 score : 0.20090437007417106\n",
      "k : 10 score : 0.32840308460034817\n",
      "best n : 5 best score : 0.3383635958808616\n",
      "---------------------------------------------\n",
      "2024-02-20 00:00:00 의 점수\n",
      "k : 2 score : 0.27903310752704785\n",
      "k : 3 score : 0.27903310752704785\n",
      "k : 4 score : 0.3780314694540087\n",
      "k : 5 score : 0.34297598272200497\n",
      "k : 6 score : 0.3721974373352884\n",
      "k : 7 score : 0.38587641589368754\n",
      "k : 8 score : 0.35327367942160176\n",
      "k : 9 score : 0.30008238548412774\n",
      "k : 10 score : 0.332449199784957\n",
      "best n : 7 best score : 0.38587641589368754\n",
      "---------------------------------------------\n",
      "2024-02-29 00:00:00 의 점수\n",
      "k : 2 score : 0.4772023721252707\n",
      "k : 3 score : 0.5549059827966957\n",
      "k : 4 score : 0.5460632987811543\n",
      "k : 5 score : 0.5645729866925977\n",
      "k : 6 score : 0.5880381755361114\n",
      "k : 7 score : 0.5743727600690391\n",
      "k : 8 score : 0.6287792717902085\n",
      "k : 9 score : 0.6047826213048798\n",
      "k : 10 score : 0.5727116769568029\n",
      "best n : 8 best score : 0.6287792717902085\n",
      "---------------------------------------------\n",
      "2024-03-04 00:00:00 의 점수\n",
      "k : 2 score : 0.5472501999604308\n",
      "k : 3 score : 0.5313852916407965\n",
      "k : 4 score : 0.5816289482598147\n",
      "k : 5 score : 0.6006472830692654\n",
      "k : 6 score : 0.4417649513653001\n",
      "k : 7 score : 0.6195464810589566\n",
      "k : 8 score : 0.5370572793906656\n",
      "k : 9 score : 0.5673857080499514\n",
      "k : 10 score : 0.45347751404516484\n",
      "best n : 7 best score : 0.6195464810589566\n",
      "---------------------------------------------\n",
      "2024-03-27 00:00:00 의 점수\n",
      "k : 2 score : 0.4427539640654935\n",
      "k : 3 score : 0.45263800915894253\n",
      "k : 4 score : 0.37855614080757727\n",
      "k : 5 score : 0.33795216412444395\n",
      "k : 6 score : 0.3561115670548849\n",
      "k : 7 score : 0.3483145140723449\n",
      "k : 8 score : 0.28844586730764293\n",
      "k : 9 score : 0.342635464000037\n",
      "k : 10 score : 0.3329968704251081\n",
      "best n : 3 best score : 0.45263800915894253\n",
      "---------------------------------------------\n",
      "2024-04-15 00:00:00 의 점수\n",
      "k : 2 score : 0.4953959383553766\n",
      "k : 3 score : 0.47198798578852275\n",
      "k : 4 score : 0.542318457442075\n",
      "k : 5 score : 0.4473134013390355\n",
      "k : 6 score : 0.5533691808044198\n",
      "k : 7 score : 0.3683967647388391\n",
      "k : 8 score : 0.43392252491677763\n",
      "k : 9 score : 0.4180116827463103\n",
      "k : 10 score : 0.4321661416756747\n",
      "best n : 6 best score : 0.5533691808044198\n",
      "---------------------------------------------\n"
     ]
    }
   ],
   "source": [
    "best_score = []\n",
    "counter = 0\n",
    "\n",
    "for i in df_check_date_count['news_date'].unique():\n",
    "\n",
    "  # 해당 날짜 추출\n",
    "  processing_df = df_check_date_count[(df_check_date_count['news_date'] == i)]\n",
    "    \n",
    "  print(f'{i} 의 점수')\n",
    "    \n",
    "  # 토픽 추출\n",
    "  # try:\n",
    "  best_score.append(Coherence_point(vectorizer,processing_df['newText']))\n",
    "  # except:\n",
    "  #   best_score.append(f'오류 발생 : {counter}번재 날짜')\n",
    "  #   print('-------------------------------------------')\n",
    "\n",
    "  counter += 1"
   ]
  },
  {
   "cell_type": "code",
   "execution_count": 48,
   "metadata": {},
   "outputs": [],
   "source": [
    "get_score = list()\n",
    "for i in best_score:\n",
    "    for j in i:\n",
    "        get_score.append(j)"
   ]
  },
  {
   "cell_type": "code",
   "execution_count": 49,
   "metadata": {},
   "outputs": [
    {
     "data": {
      "text/plain": [
       "[7, 10, 10, 6, 4, 6, 5, 7, 8, 7, 3, 6]"
      ]
     },
     "execution_count": 49,
     "metadata": {},
     "output_type": "execute_result"
    }
   ],
   "source": [
    "get_score"
   ]
  },
  {
   "cell_type": "markdown",
   "metadata": {},
   "source": [
    "### LDA 진행"
   ]
  },
  {
   "cell_type": "code",
   "execution_count": 50,
   "metadata": {},
   "outputs": [],
   "source": [
    "# 추출 함수 제작\n",
    "\n",
    "def LDAs(vectorizer,input_text_list,n_compo):\n",
    "\n",
    "  features = vectorizer.fit_transform(input_text_list)\n",
    "\n",
    "  # 단어 사전 추출\n",
    "  dictionary_list = vectorizer.get_feature_names_out()\n",
    "\n",
    "  # LDA 학습\n",
    "  from sklearn.decomposition import LatentDirichletAllocation\n",
    "  lda_model = LatentDirichletAllocation(n_components=n_compo, random_state=42) #인스턴스화 #n_components 토픽의 갯수\n",
    "  lda_model.fit(features) #교육\n",
    "\n",
    "  ## 상위 단어 추출\n",
    "  ## 0 확률 1은 dictionary\n",
    "  topics_list = list()\n",
    "  for topic in lda_model.components_:\n",
    "      df_datas = [topic, dictionary_list]\n",
    "      df_topics = pd.DataFrame(data=df_datas)\n",
    "      df_topics= df_topics.T\n",
    "      df_topics = df_topics.sort_values(0, ascending=False)\n",
    "\n",
    "      topics_text = ' '.join(df_topics[1].values[:10])# 시리즈 형식으로 출력 get values from series / index\n",
    "      topics_list.append(topics_text)\n",
    "\n",
    "  return topics_list"
   ]
  },
  {
   "cell_type": "code",
   "execution_count": 51,
   "metadata": {},
   "outputs": [],
   "source": [
    "get_topics = []\n",
    "counter = 0\n",
    "for i in df_check_date_count['news_date'].unique():\n",
    "    \n",
    "  # 해당 날짜 추출\n",
    "  processing_df = df_check_date_count[(df_check_date_count['news_date'] == i)]\n",
    "\n",
    "  # 토픽 추출\n",
    "  try:\n",
    "    get_topics.append(LDAs(vectorizer,processing_df['newText'],get_score[counter]))\n",
    "  except:\n",
    "    get_topics.append(f'오류 발생 : {counter}번재 csv')\n",
    "\n",
    "  counter += 1"
   ]
  },
  {
   "cell_type": "code",
   "execution_count": 69,
   "metadata": {},
   "outputs": [
    {
     "data": {
      "text/html": [
       "<div>\n",
       "<style scoped>\n",
       "    .dataframe tbody tr th:only-of-type {\n",
       "        vertical-align: middle;\n",
       "    }\n",
       "\n",
       "    .dataframe tbody tr th {\n",
       "        vertical-align: top;\n",
       "    }\n",
       "\n",
       "    .dataframe thead th {\n",
       "        text-align: right;\n",
       "    }\n",
       "</style>\n",
       "<table border=\"1\" class=\"dataframe\">\n",
       "  <thead>\n",
       "    <tr style=\"text-align: right;\">\n",
       "      <th></th>\n",
       "      <th>news_title</th>\n",
       "      <th>news_date</th>\n",
       "      <th>news_contents</th>\n",
       "      <th>newText</th>\n",
       "    </tr>\n",
       "  </thead>\n",
       "  <tbody>\n",
       "    <tr>\n",
       "      <th>829</th>\n",
       "      <td>폴라리스오피스, .과기부 국책과제 공동연구개발기관 선정</td>\n",
       "      <td>2024-04-15</td>\n",
       "      <td>[서울=뉴시스] 김경택 기자 = 폴라리스오피스는 과학기술정보통신부의 신규 국책과제에...</td>\n",
       "      <td>폴라리스오피스   과기부 국책과제 공동연구개발기관 선정  서울 뉴시스  김경택 기자...</td>\n",
       "    </tr>\n",
       "    <tr>\n",
       "      <th>830</th>\n",
       "      <td>폴라리스오피스, 클라우드 기반 문서 AI 고도화 및 실증...과기부 국책과제 선정</td>\n",
       "      <td>2024-04-15</td>\n",
       "      <td>폴라리스오피스가 과학기술정보통신부의 신규 국책과제에 공동연구개발기관으로 선정됐다고 ...</td>\n",
       "      <td>폴라리스오피스  클라우드 기반 문서 AI 고도화 및 실증   과기부 국책과제 선정 ...</td>\n",
       "    </tr>\n",
       "    <tr>\n",
       "      <th>831</th>\n",
       "      <td>폴라리스오피스, 클라우드 기반 문서 AI 고도화 및 실증...과기부 국책과제 선정</td>\n",
       "      <td>2024-04-15</td>\n",
       "      <td>폴라리스오피스 CI\\n[파이낸셜뉴스] 폴라리스오피스가 과학기술정보통신부의 신규 국책...</td>\n",
       "      <td>폴라리스오피스  클라우드 기반 문서 AI 고도화 및 실증   과기부 국책과제 선정 ...</td>\n",
       "    </tr>\n",
       "    <tr>\n",
       "      <th>832</th>\n",
       "      <td>폴라리스오피스, 클라우드 기반 문서 AI 고도화 및 실증…과기부 국책과제 선정</td>\n",
       "      <td>2024-04-15</td>\n",
       "      <td>폴라리스오피스가 과학기술정보통신부의 신규 국책과제에 공동연구개발기관으로 선정됐다고 ...</td>\n",
       "      <td>폴라리스오피스  클라우드 기반 문서 AI 고도화 및 실증 과기부 국책과제 선정 폴라...</td>\n",
       "    </tr>\n",
       "    <tr>\n",
       "      <th>833</th>\n",
       "      <td>폴라리스오피스, 과기부 국책과제 공동연구개발기관 선정</td>\n",
       "      <td>2024-04-15</td>\n",
       "      <td>[이데일리 이정현 기자] 폴라리스오피스(041020)는 과학기술정보통신부의 신규 국...</td>\n",
       "      <td>폴라리스오피스  과기부 국책과제 공동연구개발기관 선정  이데일리 이정현 기자  폴라...</td>\n",
       "    </tr>\n",
       "    <tr>\n",
       "      <th>834</th>\n",
       "      <td>이노그리드, 50억 규모 AI 서비스형플랫폼 개발 총괄 맡아</td>\n",
       "      <td>2024-04-15</td>\n",
       "      <td>[이 기사에 나온 스타트업에 대한 보다 다양한 기업정보는 유니콘팩토리 빅데이터 플랫...</td>\n",
       "      <td>이노그리드    억 규모 AI 서비스형플랫폼 개발 총괄 맡아  이 기사에 나온 스타...</td>\n",
       "    </tr>\n",
       "    <tr>\n",
       "      <th>835</th>\n",
       "      <td>이노그리드, 50억 규모 'AI 서비스형플랫폼' 개발 과제 수주</td>\n",
       "      <td>2024-04-15</td>\n",
       "      <td>주관사업자로 '기술 개발→플랫폼 구축→산업 실증' 전 과정 주도\\n\"AI에 최적화된...</td>\n",
       "      <td>이노그리드    억 규모  AI 서비스형플랫폼  개발 과제 수주 주관사업자로  기술...</td>\n",
       "    </tr>\n",
       "    <tr>\n",
       "      <th>836</th>\n",
       "      <td>이노그리드, AI 최적화된 PaaS 기술 개발 과제 수주</td>\n",
       "      <td>2024-04-15</td>\n",
       "      <td>이노그리드 로고 이미지\\n이노그리드가 과학기술정보통신부와 정보통신기획평가원(IITP...</td>\n",
       "      <td>이노그리드  AI 최적화된 PaaS 기술 개발 과제 수주 이노그리드 로고 이미지 이...</td>\n",
       "    </tr>\n",
       "    <tr>\n",
       "      <th>837</th>\n",
       "      <td>\"AI에 최적화한 PaaS 개발\"···이노그리드, 50억 사업 수주</td>\n",
       "      <td>2024-04-15</td>\n",
       "      <td>2026년까지 3년간 진행...써로마인드·KISTI·바이오브레인·소프트온넷·폴라리스...</td>\n",
       "      <td>AI에 최적화한 PaaS 개발    이노그리드    억 사업 수주     년까지 ...</td>\n",
       "    </tr>\n",
       "  </tbody>\n",
       "</table>\n",
       "</div>"
      ],
      "text/plain": [
       "                                        news_title  news_date  \\\n",
       "829                 폴라리스오피스, .과기부 국책과제 공동연구개발기관 선정 2024-04-15   \n",
       "830  폴라리스오피스, 클라우드 기반 문서 AI 고도화 및 실증...과기부 국책과제 선정 2024-04-15   \n",
       "831  폴라리스오피스, 클라우드 기반 문서 AI 고도화 및 실증...과기부 국책과제 선정 2024-04-15   \n",
       "832    폴라리스오피스, 클라우드 기반 문서 AI 고도화 및 실증…과기부 국책과제 선정 2024-04-15   \n",
       "833                  폴라리스오피스, 과기부 국책과제 공동연구개발기관 선정 2024-04-15   \n",
       "834              이노그리드, 50억 규모 AI 서비스형플랫폼 개발 총괄 맡아 2024-04-15   \n",
       "835            이노그리드, 50억 규모 'AI 서비스형플랫폼' 개발 과제 수주 2024-04-15   \n",
       "836                이노그리드, AI 최적화된 PaaS 기술 개발 과제 수주 2024-04-15   \n",
       "837          \"AI에 최적화한 PaaS 개발\"···이노그리드, 50억 사업 수주 2024-04-15   \n",
       "\n",
       "                                         news_contents  \\\n",
       "829  [서울=뉴시스] 김경택 기자 = 폴라리스오피스는 과학기술정보통신부의 신규 국책과제에...   \n",
       "830  폴라리스오피스가 과학기술정보통신부의 신규 국책과제에 공동연구개발기관으로 선정됐다고 ...   \n",
       "831  폴라리스오피스 CI\\n[파이낸셜뉴스] 폴라리스오피스가 과학기술정보통신부의 신규 국책...   \n",
       "832  폴라리스오피스가 과학기술정보통신부의 신규 국책과제에 공동연구개발기관으로 선정됐다고 ...   \n",
       "833  [이데일리 이정현 기자] 폴라리스오피스(041020)는 과학기술정보통신부의 신규 국...   \n",
       "834  [이 기사에 나온 스타트업에 대한 보다 다양한 기업정보는 유니콘팩토리 빅데이터 플랫...   \n",
       "835  주관사업자로 '기술 개발→플랫폼 구축→산업 실증' 전 과정 주도\\n\"AI에 최적화된...   \n",
       "836  이노그리드 로고 이미지\\n이노그리드가 과학기술정보통신부와 정보통신기획평가원(IITP...   \n",
       "837  2026년까지 3년간 진행...써로마인드·KISTI·바이오브레인·소프트온넷·폴라리스...   \n",
       "\n",
       "                                               newText  \n",
       "829  폴라리스오피스   과기부 국책과제 공동연구개발기관 선정  서울 뉴시스  김경택 기자...  \n",
       "830  폴라리스오피스  클라우드 기반 문서 AI 고도화 및 실증   과기부 국책과제 선정 ...  \n",
       "831  폴라리스오피스  클라우드 기반 문서 AI 고도화 및 실증   과기부 국책과제 선정 ...  \n",
       "832  폴라리스오피스  클라우드 기반 문서 AI 고도화 및 실증 과기부 국책과제 선정 폴라...  \n",
       "833  폴라리스오피스  과기부 국책과제 공동연구개발기관 선정  이데일리 이정현 기자  폴라...  \n",
       "834  이노그리드    억 규모 AI 서비스형플랫폼 개발 총괄 맡아  이 기사에 나온 스타...  \n",
       "835  이노그리드    억 규모  AI 서비스형플랫폼  개발 과제 수주 주관사업자로  기술...  \n",
       "836  이노그리드  AI 최적화된 PaaS 기술 개발 과제 수주 이노그리드 로고 이미지 이...  \n",
       "837   AI에 최적화한 PaaS 개발    이노그리드    억 사업 수주     년까지 ...  "
      ]
     },
     "execution_count": 69,
     "metadata": {},
     "output_type": "execute_result"
    }
   ],
   "source": [
    "df_check_date_count.query('news_date == \"2024-04-15\"')\n",
    "# ['news_contents'].iloc[0]"
   ]
  },
  {
   "cell_type": "code",
   "execution_count": 55,
   "metadata": {},
   "outputs": [
    {
     "name": "stdout",
     "output_type": "stream",
     "text": [
      "2022-06-17 00:00:00날짜 1번째 토픽 : 주민 공간 케이 운영 관광 제주 돼다 시키다 이다 마을\n",
      "2022-06-17 00:00:00날짜 2번째 토픽 : 주민 공간 케이 운영 관광 제주 돼다 시키다 이다 마을\n",
      "2022-06-17 00:00:00날짜 3번째 토픽 : 주민 공간 케이 운영 관광 제주 돼다 시키다 이다 마을\n",
      "2022-06-17 00:00:00날짜 4번째 토픽 : 주민 공간 케이 운영 관광 제주 돼다 시키다 이다 마을\n",
      "2022-06-17 00:00:00날짜 5번째 토픽 : 주민 공간 케이 운영 관광 제주 돼다 시키다 이다 마을\n",
      "2022-06-17 00:00:00날짜 6번째 토픽 : 주민 공간 케이 운영 관광 제주 돼다 시키다 이다 마을\n",
      "2022-06-17 00:00:00날짜 7번째 토픽 : 공란 마을 케이 공간 주민 운영 제주 관광 시키다 돼다\n",
      "--------------------------------------\n",
      "2023-03-07 00:00:00날짜 1번째 토픽 : 흑자 해당 늘다 시가 제기 지급 배당률 돼다 서울 db\n",
      "2023-03-07 00:00:00날짜 2번째 토픽 : 공란 공시 이용성 관련 현저 요구 변동 오피스 조회 폴라리스\n",
      "2023-03-07 00:00:00날짜 3번째 토픽 : 흑자 해당 늘다 시가 제기 지급 배당률 돼다 서울 db\n",
      "2023-03-07 00:00:00날짜 4번째 토픽 : 흑자 해당 늘다 시가 제기 지급 배당률 돼다 서울 db\n",
      "2023-03-07 00:00:00날짜 5번째 토픽 : 흑자 해당 늘다 시가 제기 지급 배당률 돼다 서울 db\n",
      "2023-03-07 00:00:00날짜 6번째 토픽 : 흑자 해당 늘다 시가 제기 지급 배당률 돼다 서울 db\n",
      "2023-03-07 00:00:00날짜 7번째 토픽 : 흑자 해당 늘다 시가 제기 지급 배당률 돼다 서울 db\n",
      "2023-03-07 00:00:00날짜 8번째 토픽 : 흑자 해당 늘다 시가 제기 지급 배당률 돼다 서울 db\n",
      "2023-03-07 00:00:00날짜 9번째 토픽 : 흑자 해당 늘다 시가 제기 지급 배당률 돼다 서울 db\n",
      "2023-03-07 00:00:00날짜 10번째 토픽 : 흑자 해당 늘다 시가 제기 지급 배당률 돼다 서울 db\n",
      "--------------------------------------\n",
      "2023-03-17 00:00:00날짜 1번째 토픽 : 적용 지능 출시 오픈 거래 늘다 강세 문서 가다 기업\n",
      "2023-03-17 00:00:00날짜 2번째 토픽 : 적용 지능 출시 오픈 거래 늘다 강세 문서 가다 기업\n",
      "2023-03-17 00:00:00날짜 3번째 토픽 : 적용 지능 출시 오픈 거래 늘다 강세 문서 가다 기업\n",
      "2023-03-17 00:00:00날짜 4번째 토픽 : 적용 지능 출시 오픈 거래 늘다 강세 문서 가다 기업\n",
      "2023-03-17 00:00:00날짜 5번째 토픽 : 적용 지능 출시 오픈 거래 늘다 강세 문서 가다 기업\n",
      "2023-03-17 00:00:00날짜 6번째 토픽 : 적용 지능 출시 오픈 거래 늘다 강세 문서 가다 기업\n",
      "2023-03-17 00:00:00날짜 7번째 토픽 : 공란 오피스 ai 폴라리스 ms 소프트웨어 기능 무용 sw 되다\n",
      "2023-03-17 00:00:00날짜 8번째 토픽 : 적용 지능 출시 오픈 거래 늘다 강세 문서 가다 기업\n",
      "2023-03-17 00:00:00날짜 9번째 토픽 : 적용 지능 출시 오픈 거래 늘다 강세 문서 가다 기업\n",
      "2023-03-17 00:00:00날짜 10번째 토픽 : 적용 지능 출시 오픈 거래 늘다 강세 문서 가다 기업\n",
      "--------------------------------------\n",
      "2023-08-24 00:00:00날짜 1번째 토픽 : 이정현 열다 hyperscale 양사 만들어지다 당사도 생산 향상 라운지 방향성\n",
      "2023-08-24 00:00:00날짜 2번째 토픽 : 이정현 열다 hyperscale 당사도 만들어지다 양사 생산 향상 라운지 방향성\n",
      "2023-08-24 00:00:00날짜 3번째 토픽 : 이정현 열다 hyperscale 양사 만들어지다 당사도 생산 향상 라운지 방향성\n",
      "2023-08-24 00:00:00날짜 4번째 토픽 : 이정현 열다 hyperscale 양사 만들어지다 당사도 생산 향상 라운지 방향성\n",
      "2023-08-24 00:00:00날짜 5번째 토픽 : 이정현 열다 hyperscale 양사 만들어지다 당사도 생산 향상 라운지 방향성\n",
      "2023-08-24 00:00:00날짜 6번째 토픽 : 공란 ai 네이버 오피스 크다 폴라리스 서비스 하이퍼 시스템 스킬\n",
      "--------------------------------------\n",
      "2023-10-05 00:00:00날짜 1번째 토픽 : 공란 오피스 폴라리스 기업 되다 차량 시장 테슬라 ai 기능\n",
      "2023-10-05 00:00:00날짜 2번째 토픽 : 테슬라 차량 되다 시장 글로벌 기능 ai 주행 확대 모빌리티\n",
      "2023-10-05 00:00:00날짜 3번째 토픽 : 테슬라 차량 되다 시장 글로벌 기능 ai 주행 확대 모빌리티\n",
      "2023-10-05 00:00:00날짜 4번째 토픽 : 테슬라 차량 되다 시장 글로벌 기능 ai 주행 확대 모빌리티\n",
      "--------------------------------------\n",
      "2024-01-05 00:00:00날짜 1번째 토픽 : 정호 최근 한국 영훈 대피 대폭 북방 해안포 과학기술 주민\n",
      "2024-01-05 00:00:00날짜 2번째 토픽 : 공란 ai gpt 출시 마감 스토어 에코 뉴스 거래 대다\n",
      "2024-01-05 00:00:00날짜 3번째 토픽 : 정호 최근 한국 영훈 대피 대폭 북방 해안포 과학기술 주민\n",
      "2024-01-05 00:00:00날짜 4번째 토픽 : 정호 최근 한국 영훈 대피 대폭 북방 해안포 과학기술 주민\n",
      "2024-01-05 00:00:00날짜 5번째 토픽 : 정호 최근 한국 영훈 대피 대폭 북방 해안포 과학기술 주민\n",
      "2024-01-05 00:00:00날짜 6번째 토픽 : 정호 최근 한국 영훈 대피 대폭 북방 해안포 과학기술 주민\n",
      "--------------------------------------\n",
      "2024-01-06 00:00:00날짜 1번째 토픽 : 스토어 되다 gpt ai 출시 전망 가다 앱스토어 오픈 이다\n",
      "2024-01-06 00:00:00날짜 2번째 토픽 : 스토어 되다 gpt ai 출시 전망 가다 앱스토어 오픈 이다\n",
      "2024-01-06 00:00:00날짜 3번째 토픽 : 스토어 되다 gpt ai 출시 전망 가다 앱스토어 오픈 이다\n",
      "2024-01-06 00:00:00날짜 4번째 토픽 : 스토어 되다 gpt ai 출시 전망 가다 앱스토어 오픈 이다\n",
      "2024-01-06 00:00:00날짜 5번째 토픽 : 공란 ai gpt 스토어 되다 출시 전망 가다 앱스토어 오픈\n",
      "--------------------------------------\n",
      "2024-02-20 00:00:00날짜 1번째 토픽 : 공란 기업 오픈 이노베이션 산업 단지 지원 사업 단공 기술\n",
      "2024-02-20 00:00:00날짜 2번째 토픽 : 지난 주요 국내외 각국 엘지 산단 ai 이상 모델링 인공\n",
      "2024-02-20 00:00:00날짜 3번째 토픽 : 지난 주요 국내외 각국 엘지 산단 ai 이상 모델링 인공\n",
      "2024-02-20 00:00:00날짜 4번째 토픽 : 지난 주요 국내외 각국 엘지 산단 ai 이상 모델링 인공\n",
      "2024-02-20 00:00:00날짜 5번째 토픽 : 지난 주요 국내외 각국 엘지 산단 ai 이상 모델링 인공\n",
      "2024-02-20 00:00:00날짜 6번째 토픽 : 지난 주요 국내외 각국 엘지 산단 ai 이상 모델링 인공\n",
      "2024-02-20 00:00:00날짜 7번째 토픽 : 지난 주요 국내외 각국 엘지 산단 ai 이상 모델링 인공\n",
      "--------------------------------------\n",
      "2024-02-29 00:00:00날짜 1번째 토픽 : 시스템 연합뉴스 okjebo 카톡 제보 기사 데이터 작성 dhp 동현\n",
      "2024-02-29 00:00:00날짜 2번째 토픽 : 시스템 연합뉴스 okjebo 카톡 제보 기사 데이터 작성 dhp 동현\n",
      "2024-02-29 00:00:00날짜 3번째 토픽 : 공란 ai 오피스 스테이지 디바이스 폴라리스 되다 문서 개발 llm\n",
      "2024-02-29 00:00:00날짜 4번째 토픽 : 시스템 연합뉴스 okjebo 카톡 제보 기사 데이터 작성 dhp 동현\n",
      "2024-02-29 00:00:00날짜 5번째 토픽 : 시스템 연합뉴스 okjebo 카톡 제보 기사 데이터 작성 dhp 동현\n",
      "2024-02-29 00:00:00날짜 6번째 토픽 : 시스템 카톡 연합뉴스 okjebo 제보 기사 데이터 작성 dhp 동현\n",
      "2024-02-29 00:00:00날짜 7번째 토픽 : 시스템 연합뉴스 okjebo 카톡 제보 기사 데이터 작성 dhp 동현\n",
      "2024-02-29 00:00:00날짜 8번째 토픽 : 배정 만주 운영 유상증자 변경 파마 에스 최대 자금 억원\n",
      "--------------------------------------\n",
      "2024-03-04 00:00:00날짜 1번째 토픽 : 계열 주가 ci edaily 이데일리 seiji 아이 이정현 사인 핵심\n",
      "2024-03-04 00:00:00날짜 2번째 토픽 : 계열 주가 ci edaily 이데일리 seiji 아이 이정현 사인 핵심\n",
      "2024-03-04 00:00:00날짜 3번째 토픽 : 공란 폴라리스 그룹 파마 에스 의약품 원료 인수 오피스 ai\n",
      "2024-03-04 00:00:00날짜 4번째 토픽 : 계열 주가 ci edaily 이데일리 seiji 아이 이정현 사인 핵심\n",
      "2024-03-04 00:00:00날짜 5번째 토픽 : 계열 주가 ci edaily 이데일리 seiji 아이 이정현 사인 핵심\n",
      "2024-03-04 00:00:00날짜 6번째 토픽 : 계열 주가 ci edaily 이데일리 seiji 아이 이정현 사인 상하\n",
      "2024-03-04 00:00:00날짜 7번째 토픽 : 공란 ai 솔트룩스 폴라리스 오피스 성형 서비스 모델 기반 기업\n",
      "--------------------------------------\n",
      "2024-03-27 00:00:00날짜 1번째 토픽 : 쉐어 테크 체인 블록 오피스 ai 폴라리스 변경 기술 활용\n",
      "2024-03-27 00:00:00날짜 2번째 토픽 : 공란 폴라리스 ai 변경 체인 블록 쉐어 테크 오피스 파마\n",
      "2024-03-27 00:00:00날짜 3번째 토픽 : 쉐어 테크 체인 블록 오피스 ai 폴라리스 변경 기술 활용\n",
      "--------------------------------------\n",
      "2024-04-15 00:00:00날짜 1번째 토픽 : 장관 거래 컨퍼런스 제품군 상인 의존 넓히다 산업대 영역 발판\n",
      "2024-04-15 00:00:00날짜 2번째 토픽 : 공란 ai 클라우드 개발 기술 문서 과제 되다 서비스 국책\n",
      "2024-04-15 00:00:00날짜 3번째 토픽 : 장관 거래 컨퍼런스 제품군 상인 의존 넓히다 산업대 영역 발판\n",
      "2024-04-15 00:00:00날짜 4번째 토픽 : 장관 거래 컨퍼런스 제품군 상인 의존 넓히다 산업대 영역 발판\n",
      "2024-04-15 00:00:00날짜 5번째 토픽 : 장관 거래 컨퍼런스 제품군 상인 의존 넓히다 산업대 영역 발판\n",
      "2024-04-15 00:00:00날짜 6번째 토픽 : 장관 거래 컨퍼런스 제품군 상인 의존 넓히다 산업대 영역 발판\n",
      "--------------------------------------\n"
     ]
    }
   ],
   "source": [
    "# 뉴스 별 토픽 추출\n",
    "total_counter = 0\n",
    "for i in get_score:\n",
    "  list_counter = 0\n",
    "  for j in range(i):\n",
    "    list_counter += 1\n",
    "    print(f'{df_check_date_count[\"news_date\"].unique()[total_counter]}날짜 {list_counter}번째 토픽 : {get_topics[total_counter][j]}')\n",
    "\n",
    "  total_counter += 1\n",
    "\n",
    "  print('--------------------------------------')"
   ]
  },
  {
   "cell_type": "markdown",
   "metadata": {},
   "source": [
    "## 토큰 가격 예측\n",
    "- AI테마가 적용되었던 3월부터 1년간 학습하여 앞으로의 가격을 예측하여 보자\n",
    "- 모델은 최근 시계열 예측에 좋은 성능을 보이는 프로핏 사용"
   ]
  },
  {
   "cell_type": "code",
   "execution_count": 73,
   "metadata": {},
   "outputs": [],
   "source": [
    "from prophet import Prophet\n",
    "\n",
    "model = Prophet()\n"
   ]
  },
  {
   "cell_type": "code",
   "execution_count": null,
   "metadata": {},
   "outputs": [],
   "source": []
  }
 ],
 "metadata": {
  "kernelspec": {
   "display_name": "Python 3",
   "language": "python",
   "name": "python3"
  },
  "language_info": {
   "codemirror_mode": {
    "name": "ipython",
    "version": 3
   },
   "file_extension": ".py",
   "mimetype": "text/x-python",
   "name": "python",
   "nbconvert_exporter": "python",
   "pygments_lexer": "ipython3",
   "version": "3.11.9"
  }
 },
 "nbformat": 4,
 "nbformat_minor": 2
}
